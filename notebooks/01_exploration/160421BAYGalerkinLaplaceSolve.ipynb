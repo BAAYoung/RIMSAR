{
 "metadata": {
  "orig_nbformat": 2,
  "kernelspec": {
   "name": "python3",
   "display_name": "Python 3",
   "language": "python"
  }
 },
 "nbformat": 4,
 "nbformat_minor": 2,
 "cells": [
  {
   "cell_type": "code",
   "execution_count": 4,
   "metadata": {},
   "outputs": [],
   "source": [
    "import numpy as np \n",
    "import matplotlib.pyplot as plt \n"
   ]
  },
  {
   "cell_type": "code",
   "execution_count": 5,
   "metadata": {},
   "outputs": [],
   "source": [
    "#Defining domain:\n",
    "H = 1.0\n",
    "L = 2.0\n",
    "\n",
    "dx = 0.01 #grid points\n",
    "\n",
    "xx,zz = np.meshgrid(np.arange(0,L+dx,dx),np.arange(0,H+dx,dx))\n"
   ]
  },
  {
   "cell_type": "code",
   "execution_count": 6,
   "metadata": {},
   "outputs": [],
   "source": [
    "#defining unstructed displacement vectors:\n",
    "xp = xx.flatten()\n",
    "zp = zz.flatten()"
   ]
  },
  {
   "cell_type": "code",
   "execution_count": 8,
   "metadata": {},
   "outputs": [],
   "source": [
    "#Defining boundary function:\n",
    "def bFunc(xp,zp,H,L):\n",
    "    return xp*zp*(L-xp)*(H-zp)"
   ]
  },
  {
   "cell_type": "code",
   "execution_count": 9,
   "metadata": {},
   "outputs": [],
   "source": [
    "#defining basis function kernel:\n",
    "def basisFunc(xp,zp,xj,zj,k): #k is the order of the polyharmonic spline basis function, k = 2 is thin plate spline\n",
    "    eps = 1e-6 #stop numerical error\n",
    "    r2 = (xp-xj)**2 + (zp-zj)**2 + eps\n",
    "    return 0.5*r2**(k)*np.log(r2)\n",
    "\n",
    "\n"
   ]
  },
  {
   "cell_type": "code",
   "execution_count": null,
   "metadata": {},
   "outputs": [],
   "source": [
    "#defining laplace operator basis function kernel:\n",
    "def basisFuncLaplace(xp,zp,xj,zj,k):\n",
    "    eps = 1e-6\n",
    "    r = np.sqrt( (xp-xj)**2 + (zp-zj)**2 )\n",
    "    drdx = (xp-xj)/r\n",
    "    drdz = (zp-zj)/r\n",
    "    d2rdx2 = (zp-zj)**2/r**(3/2)\n",
    "    d2rdz2 = (xp-xj)**2/r**(3/2)\n",
    "\n",
    "    dphidr = r**(k-1)*(k*np.log(r)+1)\n",
    "    d2phidr2 = r**(k-2)*((k-1)*k*np.log(r) + 2*k -1)\n",
    "\n",
    "    d2phidx2 = drdx*d2phidr2 + d2rdx2*dphidr\n",
    "    d2phidz2 = drdz*d2phidr2 + d2rdz2*dphidr\n",
    "\n",
    "    return d2phidx2 + d2phidz2"
   ]
  }
 ]
}