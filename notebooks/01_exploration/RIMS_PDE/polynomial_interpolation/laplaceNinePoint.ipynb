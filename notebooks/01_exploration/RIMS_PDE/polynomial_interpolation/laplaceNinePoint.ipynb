{
 "cells": [
  {
   "cell_type": "code",
   "execution_count": 13,
   "source": [
    "import numpy as np \n",
    "import matplotlib.pyplot as plt "
   ],
   "outputs": [],
   "metadata": {}
  },
  {
   "cell_type": "code",
   "execution_count": 14,
   "source": [
    "def phi_calc(Xi,Xj,N_internal, Xj_neighbours):\n",
    "    Ni = Xi.shape[0]\n",
    "    Nj = Xj.shape[0]\n",
    "    phi_mat = np.zeros((Ni,Nj))\n",
    "    dphidx_mat = np.zeros((Ni,Nj))\n",
    "    dphidz_mat = np.zeros((Ni,Nj))\n",
    "    nablaphi_mat = np.zeros((Ni,Nj))\n",
    "\n",
    "    #taking the ith point from Xi:\n",
    "    for i in range(0,Ni):\n",
    "\n",
    "        x = Xi[i,0]\n",
    "        z = Xi[i,1]\n",
    "\n",
    "        #finding the nearest point in Xj:\n",
    "        nearest_point = np.argmin((Xj[0:N_internal,0]-x)**2 + (Xj[0:N_internal,1]-z)**2)\n",
    "        #print(nearest_point)\n",
    "\n",
    "        #the indices of points used for interpolation is therefore given by the neighbours of the nearest point\n",
    "        #Xj_neighbours[nearest_point,:]\n",
    "\n",
    "        #which have a coordinate set:\n",
    "        X = Xj[Xj_neighbours[nearest_point,:],:]\n",
    "\n",
    "        #fitting polynomial:\n",
    "        poly_mat = np.zeros((9,9))\n",
    "\n",
    "        for j in range(0,9):\n",
    "            poly_mat[j,0] = 1\n",
    "            poly_mat[j,1] = X[j,0]\n",
    "            poly_mat[j,2] = X[j,1]\n",
    "            poly_mat[j,3] = X[j,0]**2\n",
    "            poly_mat[j,4] = X[j,1]**2\n",
    "            poly_mat[j,5] = X[j,0]*X[j,1]\n",
    "            poly_mat[j,6] = X[j,0]**2*X[j,1]\n",
    "            poly_mat[j,7] = X[j,1]**2*X[j,0]\n",
    "            poly_mat[j,8] = X[j,0]**2*X[j,1]**2\n",
    "\n",
    "\n",
    "        #matrix of polynomial coefficients\n",
    "        #print(i)\n",
    "        \n",
    "        coef_mat = np.linalg.inv(poly_mat)\n",
    "\n",
    "\n",
    "        #calculating the value of the 9 polynomials at point (x,z)\n",
    "        polynomial = np.zeros((1,9))\n",
    "        for j in range(0,9):\n",
    "            polynomial[:,j] = coef_mat[0,j] + coef_mat[1,j]*x + coef_mat[2,j]*z + coef_mat[3,j]*x*x + coef_mat[4,j]*z*z \n",
    "            polynomial[:,j] += coef_mat[5,j]*x*z + coef_mat[6,j]*x*x*z + coef_mat[7,j]*x*z*z + coef_mat[8,j]*x*x*z*z\n",
    "\n",
    "        #calculating value of derivatives at point (x,z)\n",
    "        dpdx = np.zeros((1,5))\n",
    "        for j in range(0,5):\n",
    "            dpdx[:,j] = coef_mat[1,j] + 2*coef_mat[3,j]*x\n",
    "\n",
    "        dpdz = np.zeros((1,5))\n",
    "        for j in range(0,5):\n",
    "            dpdz[:,j] = coef_mat[2,j] + 2*coef_mat[4,j]*z\n",
    "\n",
    "        d2pdx2 = np.zeros((1,5))\n",
    "        for j in range(0,5):\n",
    "            d2pdx2[:,j] = 2*coef_mat[3,j]\n",
    "\n",
    "        d2pdz2 = np.zeros((1,5))\n",
    "        for j in range(0,5):\n",
    "            d2pdx2[:,j] = 2*coef_mat[4,j]\n",
    "\n",
    "\n",
    "\n",
    "        nabla = np.zeros((1,5))\n",
    "        for j in range(0,5):\n",
    "            nabla[:,j] = 2*coef_mat[3,j] + 2*coef_mat[4,j]\n",
    "\n",
    "        #inserting vector of polynomial values back into the phi matrix:\n",
    "        phi_mat[i,Xj_neighbours[nearest_point,:]] = polynomial\n",
    "        dphidx_mat[i,Xj_neighbours[nearest_point,:]] = dpdx\n",
    "        dphidz_mat[i,Xj_neighbours[nearest_point,:]] = dpdz\n",
    "        nablaphi_mat[i,Xj_neighbours[nearest_point,:]] = nabla\n",
    "\n",
    "    return phi_mat, dphidx_mat, dphidz_mat, nablaphi_mat"
   ],
   "outputs": [],
   "metadata": {}
  },
  {
   "cell_type": "code",
   "execution_count": 15,
   "source": [
    "dx = 0.1\n",
    "xx,zz = np.meshgrid(np.arange(0,1+dx,dx),np.arange(0,1+dx,dx))\n",
    "#splitting into internal and external points:\n",
    "xxi = xx[1:-1,1:-1]\n",
    "zzi = zz[1:-1,1:-1]\n",
    "\n",
    "nzi= xxi.shape[0]\n",
    "nxi = xxi.shape[1]\n",
    "\n",
    "\n",
    "Xji = np.stack([xxi.flatten(),zzi.flatten()],axis=1) \n",
    "\n",
    "Tpoint = 5\n",
    "Xbc1 = np.stack([xx[:,0:1].flatten(),zz[:,0:1].flatten()],axis=1) \n",
    "Xbc2 = np.stack([xx[:,-1:].flatten(),zz[:,-1:].flatten()],axis=1) \n",
    "Xbc3 = np.stack([xx[-1:,1:-1].flatten(),zz[-1,1:-1].flatten()],axis=1) \n",
    "Xbc4 = np.stack([xx[0:1,1:Tpoint].flatten(),zz[0:1,1:Tpoint].flatten()],axis=1) \n",
    "Xbc5 = np.stack([xx[0:1,Tpoint:-1].flatten(),zz[0:1,Tpoint:-1].flatten()],axis=1) \n",
    "\n",
    "\n",
    "N_internal = Xji.shape[0]\n",
    "\n",
    "Xj = np.concatenate([Xji,Xbc1,Xbc2,Xbc3,Xbc4,Xbc5])\n",
    "Nj = Xj.shape[0]\n",
    "bc1 = N_internal + Xbc1.shape[0]\n",
    "bc2 = bc1 + Xbc2.shape[0]\n",
    "bc3 = bc2 + Xbc3.shape[0]\n",
    "bc4 = bc3 + Xbc4.shape[0]\n",
    "bc5 = bc4 + Xbc5.shape[0]\n",
    "plot = True\n",
    "if plot:\n",
    "    plt.plot(Xji[:,0],Xji[:,1],'.')\n",
    "    plt.plot(Xbc1[:,0],Xbc1[:,1],'o')\n",
    "    plt.plot(Xbc2[:,0],Xbc2[:,1],'o')\n",
    "    plt.plot(Xbc3[:,0],Xbc3[:,1],'x')\n",
    "    plt.plot(Xbc4[:,0],Xbc4[:,1],'x')\n",
    "    plt.plot(Xbc5[:,0],Xbc5[:,1],'*')\n",
    "    plt.plot(Xj[:,0],Xj[:,1],'.')"
   ],
   "outputs": [
    {
     "output_type": "display_data",
     "data": {
      "image/png": "[encoded data removed]",
      "text/plain": [
       "<Figure size 432x288 with 1 Axes>"
      ]
     },
     "metadata": {
      "needs_background": "light"
     }
    }
   ],
   "metadata": {}
  },
  {
   "cell_type": "code",
   "execution_count": 16,
   "source": [
    "#finding nnearest neighbours of each point in Xj\n",
    "r2 = (Xj[:,0:1]-Xj[:,0:1].transpose())**2 + (Xj[:,1:2]-Xj[:,1:2].transpose())**2\n",
    "\n",
    "Xj_neighbours = np.zeros((Xj.shape[0],9),dtype = int)\n",
    "\n",
    "Xj_neighbours = np.zeros((Xj.shape[0],9),dtype = int)\n",
    "for i in range(0,Xj.shape[0]):\n",
    "    Xj_neighbours[i,:] = (np.argpartition(r2[:,i],5)[0:5])"
   ],
   "outputs": [
    {
     "output_type": "error",
     "ename": "ValueError",
     "evalue": "could not broadcast input array from shape (5) into shape (9)",
     "traceback": [
      "\u001b[0;31m---------------------------------------------------------------------------\u001b[0m",
      "\u001b[0;31mValueError\u001b[0m                                Traceback (most recent call last)",
      "\u001b[0;32m<ipython-input-16-a7f349da4d95>\u001b[0m in \u001b[0;36m<module>\u001b[0;34m\u001b[0m\n\u001b[1;32m      6\u001b[0m \u001b[0mXj_neighbours\u001b[0m \u001b[0;34m=\u001b[0m \u001b[0mnp\u001b[0m\u001b[0;34m.\u001b[0m\u001b[0mzeros\u001b[0m\u001b[0;34m(\u001b[0m\u001b[0;34m(\u001b[0m\u001b[0mXj\u001b[0m\u001b[0;34m.\u001b[0m\u001b[0mshape\u001b[0m\u001b[0;34m[\u001b[0m\u001b[0;36m0\u001b[0m\u001b[0;34m]\u001b[0m\u001b[0;34m,\u001b[0m\u001b[0;36m9\u001b[0m\u001b[0;34m)\u001b[0m\u001b[0;34m,\u001b[0m\u001b[0mdtype\u001b[0m \u001b[0;34m=\u001b[0m \u001b[0mint\u001b[0m\u001b[0;34m)\u001b[0m\u001b[0;34m\u001b[0m\u001b[0;34m\u001b[0m\u001b[0m\n\u001b[1;32m      7\u001b[0m \u001b[0;32mfor\u001b[0m \u001b[0mi\u001b[0m \u001b[0;32min\u001b[0m \u001b[0mrange\u001b[0m\u001b[0;34m(\u001b[0m\u001b[0;36m0\u001b[0m\u001b[0;34m,\u001b[0m\u001b[0mXj\u001b[0m\u001b[0;34m.\u001b[0m\u001b[0mshape\u001b[0m\u001b[0;34m[\u001b[0m\u001b[0;36m0\u001b[0m\u001b[0;34m]\u001b[0m\u001b[0;34m)\u001b[0m\u001b[0;34m:\u001b[0m\u001b[0;34m\u001b[0m\u001b[0;34m\u001b[0m\u001b[0m\n\u001b[0;32m----> 8\u001b[0;31m     \u001b[0mXj_neighbours\u001b[0m\u001b[0;34m[\u001b[0m\u001b[0mi\u001b[0m\u001b[0;34m,\u001b[0m\u001b[0;34m:\u001b[0m\u001b[0;34m]\u001b[0m \u001b[0;34m=\u001b[0m \u001b[0;34m(\u001b[0m\u001b[0mnp\u001b[0m\u001b[0;34m.\u001b[0m\u001b[0margpartition\u001b[0m\u001b[0;34m(\u001b[0m\u001b[0mr2\u001b[0m\u001b[0;34m[\u001b[0m\u001b[0;34m:\u001b[0m\u001b[0;34m,\u001b[0m\u001b[0mi\u001b[0m\u001b[0;34m]\u001b[0m\u001b[0;34m,\u001b[0m\u001b[0;36m5\u001b[0m\u001b[0;34m)\u001b[0m\u001b[0;34m[\u001b[0m\u001b[0;36m0\u001b[0m\u001b[0;34m:\u001b[0m\u001b[0;36m5\u001b[0m\u001b[0;34m]\u001b[0m\u001b[0;34m)\u001b[0m\u001b[0;34m\u001b[0m\u001b[0;34m\u001b[0m\u001b[0m\n\u001b[0m",
      "\u001b[0;31mValueError\u001b[0m: could not broadcast input array from shape (5) into shape (9)"
     ]
    }
   ],
   "metadata": {}
  },
  {
   "cell_type": "code",
   "execution_count": null,
   "source": [],
   "outputs": [],
   "metadata": {}
  }
 ],
 "metadata": {
  "orig_nbformat": 4,
  "language_info": {
   "name": "python",
   "version": "3.8.5",
   "mimetype": "text/x-python",
   "codemirror_mode": {
    "name": "ipython",
    "version": 3
   },
   "pygments_lexer": "ipython3",
   "nbconvert_exporter": "python",
   "file_extension": ".py"
  },
  "kernelspec": {
   "name": "python3",
   "display_name": "Python 3.8.5 64-bit"
  },
  "interpreter": {
   "hash": "916dbcbb3f70747c44a77c7bcd40155683ae19c65e1c03b4aa3499c5328201f1"
  }
 },
 "nbformat": 4,
 "nbformat_minor": 2
}