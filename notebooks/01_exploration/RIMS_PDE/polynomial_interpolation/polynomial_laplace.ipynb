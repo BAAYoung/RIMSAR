{
 "cells": [
  {
   "cell_type": "code",
   "execution_count": 1,
   "source": [
    "import numpy as np \n",
    "from scipy import linalg as linalg\n",
    "import matplotlib.pyplot as plt "
   ],
   "outputs": [],
   "metadata": {}
  },
  {
   "cell_type": "code",
   "execution_count": 1,
   "source": [
    "def phi_calc(Xi,Xj,N_internal, Xj_neighbours):\n",
    "    Ni = Xi.shape[0]\n",
    "    Nj = Xj.shape[0]\n",
    "    phi_mat = np.zeros((Ni,Nj))\n",
    "    dphidx_mat = np.zeros((Ni,Nj))\n",
    "    dphidz_mat = np.zeros((Ni,Nj))\n",
    "    nablaphi_mat = np.zeros((Ni,Nj))\n",
    "\n",
    "    #taking the ith point from Xi:\n",
    "    for i in range(0,Ni):\n",
    "\n",
    "        x = Xi[i,0]\n",
    "        z = Xi[i,1]\n",
    "\n",
    "        #finding the nearest point in Xj:\n",
    "        nearest_point = np.argmin((Xj[0:N_internal,0]-x)**2 + (Xj[0:N_internal,1]-z)**2)\n",
    "        #print(nearest_point)\n",
    "\n",
    "        #the indices of points used for interpolation is therefore given by the neighbours of the nearest point\n",
    "        #Xj_neighbours[nearest_point,:]\n",
    "\n",
    "        #which have a coordinate set:\n",
    "        X = Xj[Xj_neighbours[nearest_point,:],:]\n",
    "\n",
    "        #fitting polynomial:\n",
    "        poly_mat = np.zeros((5,5))\n",
    "        for j in range(0,5):\n",
    "            poly_mat[j,0] = 1\n",
    "            poly_mat[j,1] = X[j,0]\n",
    "            poly_mat[j,2] = X[j,1]\n",
    "            poly_mat[j,3] = X[j,0]**2\n",
    "            poly_mat[j,4] = X[j,1]**2\n",
    "\n",
    "\n",
    "        #matrix of polynomial coefficients\n",
    "        #print(i)\n",
    "        \n",
    "        coef_mat = np.linalg.inv(poly_mat)\n",
    "\n",
    "\n",
    "        #calculating the value of the 9 polynomials at point (x,z)\n",
    "        polynomial = np.zeros((1,5))\n",
    "        for j in range(0,5):\n",
    "            polynomial[:,j] = coef_mat[0,j] + coef_mat[1,j]*x + coef_mat[2,j]*z + coef_mat[3,j]*x*x + coef_mat[4,j]*z*z \n",
    "\n",
    "        #calculating value of derivatives at point (x,z)\n",
    "        dpdx = np.zeros((1,5))\n",
    "        for j in range(0,5):\n",
    "            dpdx[:,j] = coef_mat[1,j] + 2*coef_mat[3,j]*x\n",
    "\n",
    "        dpdz = np.zeros((1,5))\n",
    "        for j in range(0,5):\n",
    "            dpdz[:,j] = coef_mat[2,j] + 2*coef_mat[4,j]*z\n",
    "\n",
    "        d2pdx2 = np.zeros((1,5))\n",
    "        for j in range(0,5):\n",
    "            d2pdx2[:,j] = 2*coef_mat[3,j]\n",
    "\n",
    "        d2pdz2 = np.zeros((1,5))\n",
    "        for j in range(0,5):\n",
    "            d2pdx2[:,j] = 2*coef_mat[4,j]\n",
    "\n",
    "        d2pdxdz = np.zeros((1,5))\n",
    "        for j in range(0,5):\n",
    "            d2pdxdz = \n",
    "\n",
    "        nabla = np.zeros((1,5))\n",
    "        for j in range(0,5):\n",
    "            nabla[:,j] = 2*coef_mat[3,j] + 2*coef_mat[4,j]\n",
    "\n",
    "        #inserting vector of polynomial values back into the phi matrix:\n",
    "        phi_mat[i,Xj_neighbours[nearest_point,:]] = polynomial\n",
    "        dphidx_mat[i,Xj_neighbours[nearest_point,:]] = dpdx\n",
    "        dphidz_mat[i,Xj_neighbours[nearest_point,:]] = dpdz\n",
    "        nablaphi_mat[i,Xj_neighbours[nearest_point,:]] = nabla\n",
    "\n",
    "    return phi_mat, dphidx_mat, dphidz_mat, nablaphi_mat\n",
    "\n"
   ],
   "outputs": [
    {
     "output_type": "error",
     "ename": "SyntaxError",
     "evalue": "invalid syntax (<ipython-input-1-aeb3e9e7d844>, line 65)",
     "traceback": [
      "\u001b[0;36m  File \u001b[0;32m\"<ipython-input-1-aeb3e9e7d844>\"\u001b[0;36m, line \u001b[0;32m65\u001b[0m\n\u001b[0;31m    d2pdxdz =\u001b[0m\n\u001b[0m              ^\u001b[0m\n\u001b[0;31mSyntaxError\u001b[0m\u001b[0;31m:\u001b[0m invalid syntax\n"
     ]
    }
   ],
   "metadata": {}
  },
  {
   "cell_type": "code",
   "execution_count": 3,
   "source": [
    "dx = 0.01\n",
    "xx,zz = np.meshgrid(np.arange(0,1+dx,dx),np.arange(0,1+dx,dx))\n",
    "#splitting into internal and external points:\n",
    "xxi = xx[1:-1,1:-1]\n",
    "zzi = zz[1:-1,1:-1]\n",
    "\n",
    "nzi= xxi.shape[0]\n",
    "nxi = xxi.shape[1]\n",
    "\n",
    "\n",
    "Xji = np.stack([xxi.flatten(),zzi.flatten()],axis=1) \n",
    "\n",
    "Tpoint = 50\n",
    "Xbc1 = np.stack([xx[1:-1,0:1].flatten(),zz[1:-1,0:1].flatten()],axis=1) \n",
    "Xbc2 = np.stack([xx[1:-1,-1:].flatten(),zz[1:-1,-1:].flatten()],axis=1) \n",
    "Xbc3 = np.stack([xx[-1:,1:-1].flatten(),zz[-1,1:-1].flatten()],axis=1) \n",
    "Xbc4 = np.stack([xx[0:1,1:Tpoint].flatten(),zz[0:1,1:Tpoint].flatten()],axis=1) \n",
    "Xbc5 = np.stack([xx[0:1,Tpoint:-1].flatten(),zz[0:1,Tpoint:-1].flatten()],axis=1) \n",
    "\n",
    "\n",
    "N_internal = Xji.shape[0]\n",
    "\n",
    "Xj = np.concatenate([Xji,Xbc1,Xbc2,Xbc3,Xbc4,Xbc5])\n",
    "Nj = Xj.shape[0]\n",
    "bc1 = N_internal + Xbc1.shape[0]\n",
    "bc2 = bc1 + Xbc2.shape[0]\n",
    "bc3 = bc2 + Xbc3.shape[0]\n",
    "bc4 = bc3 + Xbc4.shape[0]\n",
    "bc5 = bc4 + Xbc5.shape[0]\n",
    "plot = False\n",
    "if plot:\n",
    "    plt.plot(Xji[:,0],Xji[:,1],'.')\n",
    "    plt.plot(Xbc1[:,0],Xbc1[:,1],'o')\n",
    "    plt.plot(Xbc2[:,0],Xbc2[:,1],'o')\n",
    "    plt.plot(Xbc3[:,0],Xbc3[:,1],'x')\n",
    "    plt.plot(Xbc4[:,0],Xbc4[:,1],'x')\n",
    "    plt.plot(Xbc5[:,0],Xbc5[:,1],'*')\n",
    "    plt.plot(Xj[:,0],Xj[:,1],'.')\n",
    "\n",
    "#calculating phi_mat:\n",
    "\n",
    "\n",
    "\n"
   ],
   "outputs": [],
   "metadata": {}
  },
  {
   "cell_type": "code",
   "execution_count": 4,
   "source": [
    "#finding nnearest neighbours of each point in Xj\n",
    "r2 = (Xj[:,0:1]-Xj[:,0:1].transpose())**2 + (Xj[:,1:2]-Xj[:,1:2].transpose())**2\n",
    "\n",
    "Xj_neighbours = np.zeros((Xj.shape[0],5),dtype = int)\n",
    "\n",
    "Xj_neighbours = np.zeros((Xj.shape[0],5),dtype = int)\n",
    "for i in range(0,Xj.shape[0]):\n",
    "    Xj_neighbours[i,:] = (np.argpartition(r2[:,i],5)[0:5])"
   ],
   "outputs": [],
   "metadata": {}
  },
  {
   "cell_type": "code",
   "execution_count": 5,
   "source": [
    "#transorming geometry of problem:\n",
    "X_copy = Xj + 0\n",
    "Xj[:,1] += 0*0.3*np.sin(X_copy[:,0])*X_copy[:,1]\n",
    "plt.plot(Xj[:,0],Xj[:,1],'.')"
   ],
   "outputs": [
    {
     "output_type": "execute_result",
     "data": {
      "text/plain": [
       "[<matplotlib.lines.Line2D at 0x7feeb64939d0>]"
      ]
     },
     "metadata": {},
     "execution_count": 5
    },
    {
     "output_type": "display_data",
     "data": {
      "image/png": "[encoded data removed]",
      "text/plain": [
       "<Figure size 432x288 with 1 Axes>"
      ]
     },
     "metadata": {
      "needs_background": "light"
     }
    }
   ],
   "metadata": {}
  },
  {
   "cell_type": "code",
   "execution_count": 6,
   "source": [
    "phi_mat, dphidx_mat, dphidz_mat, nablaphi_mat = phi_calc(Xj,Xj,N_internal,Xj_neighbours)"
   ],
   "outputs": [],
   "metadata": {}
  },
  {
   "cell_type": "code",
   "execution_count": 7,
   "source": [
    "#high res interpolation:\n",
    "#dx = 0.01\n",
    "xxhr, zzhr = np.meshgrid(np.arange(0,1+dx,dx),np.arange(0,1+dx,dx))\n",
    "Xhr = np.stack([xxhr.flatten(),zzhr.flatten()],axis=1) \n",
    "nxhr = xxhr.shape[1]\n",
    "nzhr = xxhr.shape[0]\n",
    "\n",
    "phi_mathr, dphidx_mathr, dphidz_mathr, nablaphi_mathr = phi_calc(Xhr,Xj,N_internal,Xj_neighbours)"
   ],
   "outputs": [],
   "metadata": {}
  },
  {
   "cell_type": "code",
   "execution_count": 8,
   "source": [
    "#solving laplace equation:\n",
    "\n",
    "solver_mat = np.zeros((Nj,Nj))\n",
    "bc_mat = np.zeros((Nj,1))\n",
    "\n",
    "\n",
    "solver_mat[0:N_internal,0:Nj] = nablaphi_mat[0:N_internal,0:Nj]\n",
    "solver_mat[N_internal:bc1,0:Nj] = phi_mat[N_internal:bc1,0:Nj]\n",
    "solver_mat[bc1:bc2,0:Nj] = dphidx_mat[bc1:bc2,0:Nj]\n",
    "solver_mat[bc2:bc3,0:Nj] = dphidz_mat[bc2:bc3,0:Nj]\n",
    "solver_mat[bc3:bc4,0:Nj] = dphidz_mat[bc3:bc4,0:Nj]\n",
    "solver_mat[bc4:bc5,0:Nj] = phi_mat[bc4:bc5,0:Nj]\n",
    "\n",
    "#boundary conditions:\n",
    "bc_mat[N_internal:bc1,0:1] = 1\n",
    "\n",
    "sol = np.linalg.solve(solver_mat,bc_mat)\n",
    "\n",
    "uhr = np.matmul(phi_mathr,sol).reshape((nzhr,nxhr))\n",
    "\n",
    "plt.contourf(xxhr,zzhr,uhr,levels=100)\n",
    "\n",
    "\n",
    "\n"
   ],
   "outputs": [
    {
     "output_type": "execute_result",
     "data": {
      "text/plain": [
       "<matplotlib.contour.QuadContourSet at 0x7feeae3f59d0>"
      ]
     },
     "metadata": {},
     "execution_count": 8
    },
    {
     "output_type": "display_data",
     "data": {
      "image/png": "[encoded data removed]",
      "text/plain": [
       "<Figure size 432x288 with 1 Axes>"
      ]
     },
     "metadata": {
      "needs_background": "light"
     }
    }
   ],
   "metadata": {}
  },
  {
   "cell_type": "code",
   "execution_count": null,
   "source": [],
   "outputs": [],
   "metadata": {}
  }
 ],
 "metadata": {
  "orig_nbformat": 4,
  "language_info": {
   "name": "python",
   "version": "3.8.5",
   "mimetype": "text/x-python",
   "codemirror_mode": {
    "name": "ipython",
    "version": 3
   },
   "pygments_lexer": "ipython3",
   "nbconvert_exporter": "python",
   "file_extension": ".py"
  },
  "kernelspec": {
   "name": "python3",
   "display_name": "Python 3.8.5 64-bit"
  },
  "interpreter": {
   "hash": "916dbcbb3f70747c44a77c7bcd40155683ae19c65e1c03b4aa3499c5328201f1"
  }
 },
 "nbformat": 4,
 "nbformat_minor": 2
}