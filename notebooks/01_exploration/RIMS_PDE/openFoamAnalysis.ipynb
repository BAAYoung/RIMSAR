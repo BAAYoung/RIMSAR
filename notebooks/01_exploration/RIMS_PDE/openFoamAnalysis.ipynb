{
 "cells": [
  {
   "cell_type": "code",
   "execution_count": 149,
   "metadata": {},
   "outputs": [],
   "source": [
    "import numpy as np \n",
    "import matplotlib.pyplot as plt \n",
    "from scipy.interpolate import LinearNDInterpolator\n",
    "from scipy.ndimage import gaussian_filter"
   ]
  },
  {
   "cell_type": "code",
   "execution_count": 150,
   "metadata": {},
   "outputs": [],
   "source": [
    "def shear_statistics(case):\n",
    "    data = np.loadtxt('NonNewtonian/cavityNonNewtonian_'+case+'_0.csv',delimiter = ',')\n",
    "    u_data = data[:,1] \n",
    "    v_data = data[:,2]\n",
    "    X = data[:,4]\n",
    "    Z = data[:,5]\n",
    "\n",
    "    dx = 0.02\n",
    "    xx,zz = np.meshgrid(np.arange(0,1.0+dx,dx),np.arange(0,1.0+dx,dx))\n",
    "    u_interp = LinearNDInterpolator(list(zip(X,Z)), u_data)\n",
    "    v_interp = LinearNDInterpolator(list(zip(X,Z)), v_data)\n",
    "\n",
    "    u1 = u_interp(xx,zz)\n",
    "    v1 = v_interp(xx,zz)\n",
    "\n",
    "    abs_grad = np.abs((u1[1:-1,2:] - u1[1:-1,0:-2])/(2*dx))**2 + np.abs((u1[2:,1:-1] - u1[0:-2,1:-1])/(2*dx))**2\n",
    "    abs_grad += np.abs((v1[1:-1,2:] - v1[1:-1,0:-2])/(2*dx))**2 + np.abs((v1[2:,1:-1] - v1[0:-2,1:-1])/(2*dx))**2\n",
    "    abs_grad = np.sqrt(abs_grad.flatten())\n",
    "    return abs_grad\n",
    "\n",
    "    "
   ]
  },
  {
   "cell_type": "code",
   "execution_count": 151,
   "metadata": {},
   "outputs": [
    {
     "data": {
      "image/png": "[encoded data removed]",
      "text/plain": [
       "<Figure size 432x288 with 1 Axes>"
      ]
     },
     "metadata": {
      "needs_background": "light"
     },
     "output_type": "display_data"
    }
   ],
   "source": [
    "case0 = 'n0_5_k0_1'\n",
    "abs_grad0 = shear_statistics(case0)\n",
    "case1 = 'n0_5_k1'\n",
    "abs_grad1 = shear_statistics(case1)\n",
    "\n",
    "data0 = plt.hist(abs_grad0,bins=100)\n",
    "data1 = plt.hist(abs_grad1,bins=100)\n",
    "plt.yscale('log')"
   ]
  },
  {
   "cell_type": "code",
   "execution_count": 152,
   "metadata": {},
   "outputs": [
    {
     "name": "stdout",
     "output_type": "stream",
     "text": [
      "26.860418286311642\n"
     ]
    },
    {
     "data": {
      "image/png": "[encoded data removed]",
      "text/plain": [
       "<Figure size 432x288 with 1 Axes>"
      ]
     },
     "metadata": {
      "needs_background": "light"
     },
     "output_type": "display_data"
    }
   ],
   "source": [
    "cutoff = 75\n",
    "sigma = 10\n",
    "plt.plot(data1[1][1:cutoff+1],gaussian_filter(data1[0][0:cutoff],sigma=sigma)/np.trapz(gaussian_filter(data1[0][0:cutoff],sigma=sigma))    )\n",
    "plt.plot(data0[1][1:cutoff+1],gaussian_filter(data0[0][0:cutoff],sigma=sigma)/np.trapz(gaussian_filter(data1[0][0:cutoff],sigma=sigma))    )\n",
    "plt.yscale('log')\n",
    "print(np.max(abs_grad1))"
   ]
  },
  {
   "cell_type": "code",
   "execution_count": null,
   "metadata": {},
   "outputs": [],
   "source": []
  }
 ],
 "metadata": {
  "interpreter": {
   "hash": "916dbcbb3f70747c44a77c7bcd40155683ae19c65e1c03b4aa3499c5328201f1"
  },
  "kernelspec": {
   "display_name": "Python 3.8.5 64-bit",
   "name": "python3"
  },
  "language_info": {
   "codemirror_mode": {
    "name": "ipython",
    "version": 3
   },
   "file_extension": ".py",
   "mimetype": "text/x-python",
   "name": "python",
   "nbconvert_exporter": "python",
   "pygments_lexer": "ipython3",
   "version": "3.8.5"
  },
  "orig_nbformat": 4
 },
 "nbformat": 4,
 "nbformat_minor": 2
}
