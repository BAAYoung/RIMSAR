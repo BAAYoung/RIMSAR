{
 "cells": [
  {
   "cell_type": "code",
   "execution_count": 128,
   "source": [
    "import numpy as np \n",
    "import matplotlib.pyplot as plt \n",
    "from scipy.ndimage import gaussian_filter\n",
    "from scipy.interpolate import LinearNDInterpolator\n",
    "import tensorflow as tf"
   ],
   "outputs": [],
   "metadata": {}
  },
  {
   "cell_type": "code",
   "execution_count": 129,
   "source": [
    "def phi_calc(Xi,Xj,N_internal, Xj_neighbours):\n",
    "    Ni = Xi.shape[0]\n",
    "    Nj = Xj.shape[0]\n",
    "    phi_mat = np.zeros((Ni,Nj))\n",
    "    dphidx_mat = np.zeros((Ni,Nj))\n",
    "    dphidz_mat = np.zeros((Ni,Nj))\n",
    "    d2phidx2_mat = np.zeros((Ni,Nj))\n",
    "    d2phidz2_mat = np.zeros((Ni,Nj))\n",
    "    d2phidxdz_mat = np.zeros((Ni,Nj))\n",
    "\n",
    "\n",
    "    #taking the ith point from Xi:\n",
    "    for i in range(0,Ni):\n",
    "\n",
    "        x = Xi[i,0]\n",
    "        z = Xi[i,1]\n",
    "\n",
    "        #finding the nearest point in the internal points in Xj\n",
    "        nearest_point = np.argmin((Xj[0:N_internal,0]-x)**2 + (Xj[0:N_internal,1]-z)**2)\n",
    "        #print(nearest_point)\n",
    "\n",
    "        #the indices of points used for interpolation is therefore given by the neighbours of the nearest point\n",
    "        #Xj_neighbours[nearest_point,:]\n",
    "\n",
    "        #which have a coordinate set:\n",
    "        X = Xj[Xj_neighbours[nearest_point,:],:]\n",
    "\n",
    "        #fitting polynomial:\n",
    "        poly_mat = np.zeros((9,9))\n",
    "\n",
    "        for j in range(0,9):\n",
    "            poly_mat[j,0] = 1\n",
    "            poly_mat[j,1] = X[j,0]\n",
    "            poly_mat[j,2] = X[j,1]\n",
    "            poly_mat[j,3] = X[j,0]**2\n",
    "            poly_mat[j,4] = X[j,1]**2\n",
    "            poly_mat[j,5] = X[j,0]*X[j,1]\n",
    "            poly_mat[j,6] = X[j,0]**2*X[j,1]\n",
    "            poly_mat[j,7] = X[j,1]**2*X[j,0]\n",
    "            poly_mat[j,8] = X[j,0]**2*X[j,1]**2\n",
    "\n",
    "\n",
    "        #matrix of polynomial coefficients\n",
    "        #print(i)\n",
    "        \n",
    "        coef_mat = np.linalg.inv(poly_mat)\n",
    "        #print(np.linalg.cond(coef_mat))\n",
    "\n",
    "\n",
    "        #calculating the value of the 9 polynomials at point (x,z)\n",
    "        polynomial = np.zeros((1,9))\n",
    "        for j in range(0,9):\n",
    "            polynomial[:,j] = coef_mat[0,j] + coef_mat[1,j]*x + coef_mat[2,j]*z + coef_mat[3,j]*x*x + coef_mat[4,j]*z*z \n",
    "            polynomial[:,j] += coef_mat[5,j]*x*z + coef_mat[6,j]*x*x*z + coef_mat[7,j]*x*z*z + coef_mat[8,j]*x*x*z*z\n",
    "\n",
    "        #calculating value of derivatives at point (x,z)\n",
    "        dpdx = np.zeros((1,9))\n",
    "        for j in range(0,9):\n",
    "            dpdx[:,j] = coef_mat[1,j] + 2*coef_mat[3,j]*x + coef_mat[5,j]*z + coef_mat[6,j]*x*z*2 + coef_mat[7,j]*z*z + coef_mat[8,j]*x*z*z*2\n",
    "\n",
    "        dpdz = np.zeros((1,9))\n",
    "        for j in range(0,9):\n",
    "            dpdz[:,j] = coef_mat[2,j] + 2*coef_mat[4,j]*z + coef_mat[5,j]*x + coef_mat[6,j]*x*x + coef_mat[7,j]*x*z*2 + coef_mat[8,j]*x*x*z*2\n",
    "\n",
    "        d2pdx2 = np.zeros((1,9))\n",
    "        for j in range(0,9):\n",
    "            d2pdx2[:,j] = 2*coef_mat[3,j] + coef_mat[6,j]*2*z + coef_mat[8,j]*2*z*z\n",
    "\n",
    "        d2pdz2 = np.zeros((1,9))\n",
    "        for j in range(0,9):\n",
    "            d2pdz2[:,j] = 2*coef_mat[4,j] + coef_mat[7,j]*2*x + coef_mat[8,j]*x*x*2\n",
    "\n",
    "        d2pdxdz = np.zeros((1,9))\n",
    "        for j in range(0,9):\n",
    "            d2pdxdz[:,j] = coef_mat[5,j] + coef_mat[6,j]*2*x + coef_mat[7,j]*2*z + coef_mat[8,j]*4*x*z\n",
    "\n",
    "\n",
    "        #inserting vector of polynomial values back into the phi matrix:\n",
    "        phi_mat[i,Xj_neighbours[nearest_point,:]] = polynomial\n",
    "        dphidx_mat[i,Xj_neighbours[nearest_point,:]] = dpdx\n",
    "        dphidz_mat[i,Xj_neighbours[nearest_point,:]] = dpdz\n",
    "        d2phidz2_mat[i,Xj_neighbours[nearest_point,:]] = d2pdz2 \n",
    "        d2phidx2_mat[i,Xj_neighbours[nearest_point,:]] = d2pdx2 \n",
    "        d2phidxdz_mat[i,Xj_neighbours[nearest_point,:]] = d2pdxdz \n",
    "\n",
    "\n",
    "    return phi_mat, dphidx_mat, dphidz_mat, d2phidx2_mat,d2phidz2_mat,d2phidxdz_mat"
   ],
   "outputs": [],
   "metadata": {}
  },
  {
   "cell_type": "code",
   "execution_count": 130,
   "source": [
    "#numerical parameters\n",
    "pi = 3.14159\n",
    "dx = 0.1\n",
    "g = 1.0\n",
    "tilt_angle = pi/4"
   ],
   "outputs": [],
   "metadata": {}
  },
  {
   "cell_type": "code",
   "execution_count": 131,
   "source": [
    "#building grid:\n",
    "dx = 0.05\n",
    "xx,zz = np.meshgrid(np.arange(0,1+dx,dx),np.arange(0,1+dx,dx))\n",
    "nx = xx.shape[0]\n",
    "nz = xx.shape[1]\n",
    "xxi = xx[1:-1,1:-1]\n",
    "zzi = zz[1:-1,1:-1]\n",
    "nxi = xxi.shape[0]\n",
    "nzi = zzi.shape[1]\n",
    "Xinternal = np.stack((xxi.flatten(),zzi.flatten()),axis=1)\n",
    "Xbc1 = np.stack((xx[1:-1,0].flatten(),zz[1:-1,0].flatten()),axis=1)\n",
    "Xbc2 = np.stack((xx[1:-1,-1].flatten(),zz[1:-1,-1].flatten()),axis=1)\n",
    "Xbc3 = np.stack((xx[0,:].flatten(),zz[0,:].flatten()),axis=1)\n",
    "Xbc4 = np.stack((xx[-1,:].flatten(),zz[-1,:].flatten()),axis=1)\n",
    "nbc0 = Xinternal.shape[0]\n",
    "N_internal = nbc0 + 0\n",
    "nbc1 = Xbc1.shape[0] + nbc0\n",
    "nbc2 = Xbc2.shape[0] + nbc1\n",
    "nbc3 = Xbc3.shape[0] + nbc2 \n",
    "ncb4 = Xbc4.shape[0] + nbc3\n",
    "X = np.concatenate((Xinternal,Xbc1,Xbc2,Xbc3,Xbc4),axis=0)\n",
    "N = X.shape[0]\n",
    "\n",
    "#finding neighbouring points:\n",
    "\n",
    "#finding nnearest neighbours of each point in Xj\n",
    "r2 = (X[:,0:1]-X[:,0:1].transpose())**2 + (X[:,1:2]-X[:,1:2].transpose())**2\n",
    "\n",
    "X_neighbours = np.zeros((X.shape[0],9),dtype = int)\n",
    "\n",
    "X_neighbours = np.zeros((X.shape[0],9),dtype = int)\n",
    "for i in range(0,X.shape[0]):\n",
    "    X_neighbours[i,:] = (np.argpartition(r2[:,i],9)[0:9])\n",
    "\n",
    "phi_testing = False"
   ],
   "outputs": [],
   "metadata": {}
  },
  {
   "cell_type": "code",
   "execution_count": 132,
   "source": [
    "#solving:\n",
    "\n",
    "#Nusselt Solution:\n",
    "\n",
    "mu_true = 0.01\n",
    "\n",
    "#data = np.loadtxt('cavityNewtonian_Re0_1_0.csv',delimiter = ',')\n",
    "data = np.loadtxt('cavityNonNewtonian_n1_k0_01_0.csv',delimiter = ',')\n",
    "u_data = data[:,1] \n",
    "v_data = data[:,2]\n",
    "Xu = data[:,4]\n",
    "Zu = data[:,5]\n",
    "\n",
    "\n",
    "u_interp = LinearNDInterpolator(list(zip(Xu,Zu)), u_data)\n",
    "v_interp = LinearNDInterpolator(list(zip(Xu,Zu)), v_data)\n",
    "\n",
    "u_test = u_interp(X[:,0:1],X[:,1:2])\n",
    "v_test = v_interp(X[:,0:1],X[:,1:2])\n",
    "#applying noise:\n",
    "\n",
    "epsilon = 0.0\n",
    "\n",
    "u_test += epsilon*np.random.randn(u_test.shape[0],u_test.shape[1])\n",
    "\n",
    "#finding relevent derivative fields:\n",
    "phi_mat, dphidx_mat, dphidz_mat, d2phidx2_mat,d2phidz2_mat,d2phidxdz_mat = phi_calc(X,X,N_internal, X_neighbours)\n",
    "\n",
    "\n",
    "phi_u = phi_mat + 0\n",
    "nabla2_phi_u = d2phidx2_mat + d2phidz2_mat\n",
    "dphi_u_dx = dphidx_mat + 0\n",
    "dphi_u_dz = dphidz_mat + 0\n",
    "d2phi_u_dx2 = d2phidx2_mat + 0\n",
    "d2phi_u_dz2 = d2phidz2_mat + 0\n",
    "d2phi_u_dxdz = d2phidxdz_mat + 0\n",
    "\n",
    "\n",
    "u_j = np.linalg.solve(phi_u,u_test)\n",
    "v_j = np.linalg.solve(phi_u,v_test)\n",
    "\n",
    "u = np.diag(u_test.flatten())\n",
    "v = np.diag(v_test.flatten())\n",
    "nabla2_u = np.diag(np.matmul(nabla2_phi_u,u_j).flatten())\n",
    "nabla2_v = np.diag(np.matmul(nabla2_phi_u,v_j).flatten())\n",
    "dudx = np.diag(np.matmul(dphi_u_dx,u_j).flatten())\n",
    "dudz = np.diag(np.matmul(dphi_u_dz,u_j).flatten())\n",
    "dvdx = np.diag(np.matmul(dphi_u_dx,v_j).flatten())\n",
    "dvdz = np.diag(np.matmul(dphi_u_dz,v_j).flatten())\n",
    "d2udx2 = np.diag(np.matmul(d2phi_u_dx2,u_j).flatten())\n",
    "d2udz2 = np.diag(np.matmul(d2phi_u_dz2,u_j).flatten())\n",
    "d2udxdz = np.diag(np.matmul(d2phi_u_dxdz,u_j).flatten())\n",
    "d2vdx2 = np.diag(np.matmul(d2phi_u_dx2,v_j).flatten())\n",
    "d2vdz2 = np.diag(np.matmul(d2phi_u_dz2,v_j).flatten())\n",
    "d2vdxdz = np.diag(np.matmul(d2phi_u_dxdz,v_j).flatten())"
   ],
   "outputs": [],
   "metadata": {}
  },
  {
   "cell_type": "code",
   "execution_count": 133,
   "source": [
    "gov_mat = np.zeros((2*N,2*N))\n",
    "\n",
    "#horizontal momentum:\n",
    "\n",
    "#viscosity terms\n",
    "gov_mat[0:N,0:N] =  2*np.matmul(dudx,dphi_u_dx) + 2*np.matmul(d2udx2,phi_u) + np.matmul(dudz + dvdx,dphi_u_dz) + np.matmul(d2udz2+d2vdxdz,phi_u)\n",
    "\n",
    "#pressure term\n",
    "\n",
    "gov_mat[0:N,N:2*N] = -dphi_u_dx\n",
    "\n",
    "#vertical momentum:\n",
    "\n",
    "gov_mat[N:2*N,0:N] =  2*np.matmul(dvdz,dphi_u_dz) + 2*np.matmul(d2vdz2,phi_u) + np.matmul(dudz + dvdx,dphi_u_dx) + np.matmul(d2udxdz+d2vdx2,phi_u)\n",
    "\n",
    "#pressure term\n",
    "\n",
    "gov_mat[N:2*N,N:2*N] = -dphi_u_dz \n",
    "\n",
    "\n",
    "#boundary conditions\n",
    "#at the surface we require that mu = 0 and p = 0\n",
    "\n",
    "gov_mat[nbc3:N,:] = 0\n",
    "gov_mat[nbc3+N:2*N,:] = 0\n",
    "\n",
    "#viscosity bc:\n",
    "gov_mat[nbc3:N,0:N] = phi_u[nbc3:N,0:N]\n",
    "\n",
    "#pressure bc:\n",
    "gov_mat[nbc3+N:2*N,N:2*N] = phi_u[nbc3:N,0:N]"
   ],
   "outputs": [],
   "metadata": {}
  },
  {
   "cell_type": "code",
   "execution_count": 134,
   "source": [
    "#inhomogeneous condition\n",
    "\n",
    "bc_vector = np.zeros((2*N,1))\n",
    "bc_vector[0:N,0] = np.diag(u)*np.diag(dudx) + np.diag(v)*np.diag(dudz) #- g*np.sin(tilt_angle)\n",
    "bc_vector[N:2*N,0] = np.diag(u)*np.diag(dvdx) + np.diag(v)*np.diag(dvdz) #+ g*np.cos(tilt_angle)\n",
    "bc_vector[nbc3:N,0] = 0.01\n",
    "bc_vector[nbc3+N:2*N,0] = 0\n"
   ],
   "outputs": [],
   "metadata": {}
  },
  {
   "cell_type": "code",
   "execution_count": 135,
   "source": [
    "#optimization procedure:\n",
    "\n",
    "#optimizer = tf.keras.optimizers.SGD(learning_rate=0.00005)\n",
    "optimizer = tf.keras.optimizers.Adam()\n",
    "viscosity_parameters = tf.Variable(initial_value=0.001,trainable=True,dtype=np.float64)\n",
    "p_vect = tf.Variable(initial_value=np.zeros((N,1)),trainable=True)\n",
    "\n",
    "for j in range(0,10):\n",
    "    for i in range(0,1000):\n",
    "\n",
    "        with tf.GradientTape() as tape:\n",
    "            nu_vect = viscosity_parameters**2*np.ones((N,1),dtype=np.float64)\n",
    "            q_vect = tf.concat((nu_vect,p_vect),axis=0)\n",
    "            model_predictions = tf.matmul(gov_mat,q_vect)\n",
    "            loss = tf.math.reduce_sum(tf.square(model_predictions - bc_vector))\n",
    "\n",
    "        optimizer.minimize(loss, var_list = [viscosity_parameters,p_vect],tape=tape)\n",
    "\n",
    "\n",
    "    print(loss)"
   ],
   "outputs": [
    {
     "output_type": "stream",
     "name": "stdout",
     "text": [
      "tf.Tensor(16.55291507322628, shape=(), dtype=float64)\n",
      "tf.Tensor(16.101327314637093, shape=(), dtype=float64)\n",
      "tf.Tensor(16.069834475638473, shape=(), dtype=float64)\n",
      "tf.Tensor(16.05337397598051, shape=(), dtype=float64)\n",
      "tf.Tensor(16.048505620907523, shape=(), dtype=float64)\n",
      "tf.Tensor(16.04627095922339, shape=(), dtype=float64)\n",
      "tf.Tensor(16.046883721465026, shape=(), dtype=float64)\n",
      "tf.Tensor(16.04727652686048, shape=(), dtype=float64)\n",
      "tf.Tensor(16.04603470354057, shape=(), dtype=float64)\n",
      "tf.Tensor(16.0460909924286, shape=(), dtype=float64)\n"
     ]
    }
   ],
   "metadata": {}
  },
  {
   "cell_type": "code",
   "execution_count": 136,
   "source": [
    "viscosity_parameters\n",
    "plt.contourf(p_vect.numpy()[0:N_internal,:].reshape((nxi,nzi)))\n",
    "plt.colorbar()"
   ],
   "outputs": [
    {
     "output_type": "execute_result",
     "data": {
      "text/plain": [
       "<matplotlib.colorbar.Colorbar at 0x7f08ec4a34f0>"
      ]
     },
     "metadata": {},
     "execution_count": 136
    },
    {
     "output_type": "display_data",
     "data": {
      "image/png": "[encoded data removed]",
      "text/plain": [
       "<Figure size 432x288 with 2 Axes>"
      ]
     },
     "metadata": {
      "needs_background": "light"
     }
    }
   ],
   "metadata": {}
  },
  {
   "cell_type": "code",
   "execution_count": 137,
   "source": [
    "viscosity_parameters"
   ],
   "outputs": [
    {
     "output_type": "execute_result",
     "data": {
      "text/plain": [
       "<tf.Variable 'Variable:0' shape=() dtype=float64, numpy=0.0868386602404758>"
      ]
     },
     "metadata": {},
     "execution_count": 137
    }
   ],
   "metadata": {}
  },
  {
   "cell_type": "code",
   "execution_count": null,
   "source": [],
   "outputs": [],
   "metadata": {}
  }
 ],
 "metadata": {
  "orig_nbformat": 4,
  "language_info": {
   "name": "python",
   "version": "3.8.5",
   "mimetype": "text/x-python",
   "codemirror_mode": {
    "name": "ipython",
    "version": 3
   },
   "pygments_lexer": "ipython3",
   "nbconvert_exporter": "python",
   "file_extension": ".py"
  },
  "kernelspec": {
   "name": "python3",
   "display_name": "Python 3.8.5 64-bit"
  },
  "interpreter": {
   "hash": "916dbcbb3f70747c44a77c7bcd40155683ae19c65e1c03b4aa3499c5328201f1"
  }
 },
 "nbformat": 4,
 "nbformat_minor": 2
}