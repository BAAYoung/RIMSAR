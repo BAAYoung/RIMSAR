{
 "cells": [
  {
   "cell_type": "code",
   "execution_count": 12,
   "source": [
    "import numpy as np \n",
    "import matplotlib.pyplot as plt \n",
    "from scipy.ndimage import gaussian_filter"
   ],
   "outputs": [],
   "metadata": {}
  },
  {
   "cell_type": "code",
   "execution_count": 13,
   "source": [
    "def phi_calc(Xi,Xj,N_internal, Xj_neighbours):\n",
    "    Ni = Xi.shape[0]\n",
    "    Nj = Xj.shape[0]\n",
    "    phi_mat = np.zeros((Ni,Nj))\n",
    "    dphidx_mat = np.zeros((Ni,Nj))\n",
    "    dphidz_mat = np.zeros((Ni,Nj))\n",
    "    d2phidx2_mat = np.zeros((Ni,Nj))\n",
    "    d2phidz2_mat = np.zeros((Ni,Nj))\n",
    "    d2phidxdz_mat = np.zeros((Ni,Nj))\n",
    "\n",
    "\n",
    "    #taking the ith point from Xi:\n",
    "    for i in range(0,Ni):\n",
    "\n",
    "        x = Xi[i,0]\n",
    "        z = Xi[i,1]\n",
    "\n",
    "        #finding the nearest point in the internal points in Xj\n",
    "        nearest_point = np.argmin((Xj[0:N_internal,0]-x)**2 + (Xj[0:N_internal,1]-z)**2)\n",
    "        #print(nearest_point)\n",
    "\n",
    "        #the indices of points used for interpolation is therefore given by the neighbours of the nearest point\n",
    "        #Xj_neighbours[nearest_point,:]\n",
    "\n",
    "        #which have a coordinate set:\n",
    "        X = Xj[Xj_neighbours[nearest_point,:],:]\n",
    "\n",
    "        #fitting polynomial:\n",
    "        poly_mat = np.zeros((9,9))\n",
    "\n",
    "        for j in range(0,9):\n",
    "            poly_mat[j,0] = 1\n",
    "            poly_mat[j,1] = X[j,0]\n",
    "            poly_mat[j,2] = X[j,1]\n",
    "            poly_mat[j,3] = X[j,0]**2\n",
    "            poly_mat[j,4] = X[j,1]**2\n",
    "            poly_mat[j,5] = X[j,0]*X[j,1]\n",
    "            poly_mat[j,6] = X[j,0]**2*X[j,1]\n",
    "            poly_mat[j,7] = X[j,1]**2*X[j,0]\n",
    "            poly_mat[j,8] = X[j,0]**2*X[j,1]**2\n",
    "\n",
    "\n",
    "        #matrix of polynomial coefficients\n",
    "        #print(i)\n",
    "        \n",
    "        coef_mat = np.linalg.inv(poly_mat)\n",
    "        #print(np.linalg.cond(coef_mat))\n",
    "\n",
    "\n",
    "        #calculating the value of the 9 polynomials at point (x,z)\n",
    "        polynomial = np.zeros((1,9))\n",
    "        for j in range(0,9):\n",
    "            polynomial[:,j] = coef_mat[0,j] + coef_mat[1,j]*x + coef_mat[2,j]*z + coef_mat[3,j]*x*x + coef_mat[4,j]*z*z \n",
    "            polynomial[:,j] += coef_mat[5,j]*x*z + coef_mat[6,j]*x*x*z + coef_mat[7,j]*x*z*z + coef_mat[8,j]*x*x*z*z\n",
    "\n",
    "        #calculating value of derivatives at point (x,z)\n",
    "        dpdx = np.zeros((1,9))\n",
    "        for j in range(0,9):\n",
    "            dpdx[:,j] = coef_mat[1,j] + 2*coef_mat[3,j]*x + coef_mat[5,j]*z + coef_mat[6,j]*x*z*2 + coef_mat[7,j]*z*z + coef_mat[8,j]*x*z*z*2\n",
    "\n",
    "        dpdz = np.zeros((1,9))\n",
    "        for j in range(0,9):\n",
    "            dpdz[:,j] = coef_mat[2,j] + 2*coef_mat[4,j]*z + coef_mat[5,j]*x + coef_mat[6,j]*x*x + coef_mat[7,j]*x*z*2 + coef_mat[8,j]*x*x*z*2\n",
    "\n",
    "        d2pdx2 = np.zeros((1,9))\n",
    "        for j in range(0,9):\n",
    "            d2pdx2[:,j] = 2*coef_mat[3,j] + coef_mat[6,j]*2*z + coef_mat[8,j]*2*z*z\n",
    "\n",
    "        d2pdz2 = np.zeros((1,9))\n",
    "        for j in range(0,9):\n",
    "            d2pdz2[:,j] = 2*coef_mat[4,j] + coef_mat[7,j]*2*x + coef_mat[8,j]*x*x*2\n",
    "\n",
    "        d2pdxdz = np.zeros((1,9))\n",
    "        for j in range(0,9):\n",
    "            d2pdxdz[:,j] = coef_mat[5,j] + coef_mat[6,j]*2*x + coef_mat[7,j]*2*z + coef_mat[8,j]*4*x*z\n",
    "\n",
    "\n",
    "        #inserting vector of polynomial values back into the phi matrix:\n",
    "        phi_mat[i,Xj_neighbours[nearest_point,:]] = polynomial\n",
    "        dphidx_mat[i,Xj_neighbours[nearest_point,:]] = dpdx\n",
    "        dphidz_mat[i,Xj_neighbours[nearest_point,:]] = dpdz\n",
    "        d2phidz2_mat[i,Xj_neighbours[nearest_point,:]] = d2pdz2 \n",
    "        d2phidx2_mat[i,Xj_neighbours[nearest_point,:]] = d2pdx2 \n",
    "        d2phidxdz_mat[i,Xj_neighbours[nearest_point,:]] = d2pdxdz \n",
    "\n",
    "\n",
    "    return phi_mat, dphidx_mat, dphidz_mat, d2phidx2_mat,d2phidz2_mat,d2phidxdz_mat"
   ],
   "outputs": [],
   "metadata": {}
  },
  {
   "cell_type": "code",
   "execution_count": 14,
   "source": [
    "#numerical parameters\n",
    "pi = 3.14159\n",
    "dx = 0.1\n",
    "g = 1.0\n",
    "tilt_angle = pi/4"
   ],
   "outputs": [],
   "metadata": {}
  },
  {
   "cell_type": "code",
   "execution_count": 15,
   "source": [
    "#building grid:\n",
    "dx = 0.05\n",
    "xx,zz = np.meshgrid(np.arange(0,2+dx,dx),np.arange(0,1+dx,dx))\n",
    "nx = xx.shape[0]\n",
    "nz = xx.shape[1]\n",
    "xxi = xx[1:-1,1:-1]\n",
    "zzi = zz[1:-1,1:-1]\n",
    "nxi = xxi.shape[0]\n",
    "nzi = zzi.shape[1]\n",
    "Xinternal = np.stack((xxi.flatten(),zzi.flatten()),axis=1)\n",
    "Xbc1 = np.stack((xx[1:-1,0].flatten(),zz[1:-1,0].flatten()),axis=1)\n",
    "Xbc2 = np.stack((xx[1:-1,-1].flatten(),zz[1:-1,-1].flatten()),axis=1)\n",
    "Xbc3 = np.stack((xx[0,:].flatten(),zz[0,:].flatten()),axis=1)\n",
    "Xbc4 = np.stack((xx[-1,:].flatten(),zz[-1,:].flatten()),axis=1)\n",
    "nbc0 = Xinternal.shape[0]\n",
    "N_internal = nbc0 + 0\n",
    "nbc1 = Xbc1.shape[0] + nbc0\n",
    "nbc2 = Xbc2.shape[0] + nbc1\n",
    "nbc3 = Xbc3.shape[0] + nbc2 \n",
    "ncb4 = Xbc4.shape[0] + nbc3\n",
    "X = np.concatenate((Xinternal,Xbc1,Xbc2,Xbc3,Xbc4),axis=0)\n",
    "N = X.shape[0]\n",
    "\n",
    "#finding neighbouring points:\n",
    "\n",
    "#finding nnearest neighbours of each point in Xj\n",
    "r2 = (X[:,0:1]-X[:,0:1].transpose())**2 + (X[:,1:2]-X[:,1:2].transpose())**2\n",
    "\n",
    "X_neighbours = np.zeros((X.shape[0],9),dtype = int)\n",
    "\n",
    "X_neighbours = np.zeros((X.shape[0],9),dtype = int)\n",
    "for i in range(0,X.shape[0]):\n",
    "    X_neighbours[i,:] = (np.argpartition(r2[:,i],9)[0:9])\n",
    "\n",
    "phi_testing = False"
   ],
   "outputs": [],
   "metadata": {}
  },
  {
   "cell_type": "code",
   "execution_count": 16,
   "source": [
    "if phi_testing:\n",
    "    dx = 0.01\n",
    "    xxhr,zzhr = np.meshgrid(np.arange(0,2+dx,dx),np.arange(0,1+dx,dx))\n",
    "    nxhr = xxhr.shape[0]\n",
    "    nzhr = xxhr.shape[1]\n",
    "    Y = np.stack((xxhr.flatten(),zzhr.flatten()),axis=1)\n",
    "    Xs = np.stack((xx.flatten(),zz.flatten()),axis=1)\n",
    "    omega_x = 1*pi\n",
    "    omega_z = 2*pi\n",
    "    F = np.sin(omega_x*X[:,0:1])*np.cos(omega_z*X[:,1:2])\n",
    "    F_analytical = np.sin(omega_x*Xs[:,0:1])*np.cos(omega_z*Xs[:,1:2])\n",
    "    dFdx_analytical = np.cos(omega_x*Xs[:,0:1])*np.cos(omega_z*Xs[:,1:2])*omega_x\n",
    "    dFdz_analytical = -np.sin(omega_x*Xs[:,0:1])*np.sin(omega_z*Xs[:,1:2])*omega_z\n",
    "    d2Fdx2_analytical = -np.sin(omega_x*Xs[:,0:1])*np.cos(omega_z*Xs[:,1:2])*omega_x*omega_x \n",
    "    d2Fdz2_analytical = -np.sin(omega_x*Xs[:,0:1])*np.cos(omega_z*Xs[:,1:2])*omega_z*omega_z\n",
    "    d2Fdxdz_analytical =  -np.cos(omega_x*Xs[:,0:1])*np.sin(omega_z*Xs[:,1:2])*omega_x*omega_z\n",
    "\n",
    "    phi_mat, dphidx_mat, dphidz_mat, d2phidx2_mat,d2phidz2_mat,d2phidxdz_mat = phi_calc(Y,X,N_internal, X_neighbours)\n",
    "\n",
    "    \n",
    "    \n",
    "\n",
    "    F_Y = np.matmul(phi_mat,F)\n",
    "    dFdx = np.matmul(dphidx_mat,F)\n",
    "    dFdz = np.matmul(dphidz_mat,F)\n",
    "    d2Fdx2 = np.matmul(d2phidx2_mat,F)\n",
    "    d2Fdz2 = np.matmul(d2phidz2_mat,F)\n",
    "    d2Fdxdz = np.matmul(d2phidxdz_mat,F)\n",
    "\n",
    "    phi_mat, dphidx_mat, dphidz_mat, d2phidx2_mat,d2phidz2_mat,d2phidxdz_mat = phi_calc(Xs,X,N_internal, X_neighbours)\n",
    "    F_interpolated = np.matmul(phi_mat,F)\n",
    "\n",
    "    plt.figure(figsize=(8,8))\n",
    "    i = 50\n",
    "    #plt.plot(zzhr[:,i],d2Fdz2.reshape((nxhr,nzhr))[:,i]    )\n",
    "    #plt.plot(zzhr[:,i],d2Fdz2_analytical.reshape((nxhr,nzhr))[:,i] ,'.'   )\n",
    "    #plt.plot(zz[:,int(i/5)],F_interpolated.reshape((nx,nz))[:,int(i/5)],'.'    )\n",
    "\n",
    "    plt.plot(xxhr[i,:],d2Fdxdz.reshape((nxhr,nzhr))[i,:]    )\n",
    "    plt.plot(xx[int(i/5),:],d2Fdxdz_analytical.reshape((nx,nz))[int(i/5),:] ,'.'   )"
   ],
   "outputs": [],
   "metadata": {}
  },
  {
   "cell_type": "code",
   "execution_count": 17,
   "source": [
    "#solving:\n",
    "\n",
    "#Nusselt Solution:\n",
    "\n",
    "mu_true = 0.1\n",
    "\n",
    "u_test = g*np.sin(tilt_angle)*(X[:,1:2]-0.5*X[:,1:2]**2)/mu_true\n",
    "v_test = u_test*0\n",
    "\n",
    "#applying noise:\n",
    "\n",
    "epsilon = 0.0\n",
    "\n",
    "u_test += epsilon*np.random.randn(u_test.shape[0],u_test.shape[1])\n",
    "\n",
    "#finding relevent derivative fields:\n",
    "phi_mat, dphidx_mat, dphidz_mat, d2phidx2_mat,d2phidz2_mat,d2phidxdz_mat = phi_calc(X,X,N_internal, X_neighbours)\n",
    "\n",
    "\n",
    "phi_u = phi_mat + 0\n",
    "nabla2_phi_u = d2phidx2_mat + d2phidz2_mat\n",
    "dphi_u_dx = dphidx_mat + 0\n",
    "dphi_u_dz = dphidz_mat + 0\n",
    "d2phi_u_dx2 = d2phidx2_mat + 0\n",
    "d2phi_u_dz2 = d2phidz2_mat + 0\n",
    "d2phi_u_dxdz = d2phidxdz_mat + 0\n",
    "\n",
    "\n",
    "u_j = np.linalg.solve(phi_u,u_test)\n",
    "v_j = np.linalg.solve(phi_u,v_test)\n",
    "\n",
    "u = np.diag(u_test.flatten())\n",
    "v = np.diag(v_test.flatten())\n",
    "nabla2_u = np.diag(np.matmul(nabla2_phi_u,u_j).flatten())\n",
    "nabla2_v = np.diag(np.matmul(nabla2_phi_u,v_j).flatten())\n",
    "dudx = np.diag(np.matmul(dphi_u_dx,u_j).flatten())\n",
    "dudz = np.diag(np.matmul(dphi_u_dz,u_j).flatten())\n",
    "dvdx = np.diag(np.matmul(dphi_u_dx,v_j).flatten())\n",
    "dvdz = np.diag(np.matmul(dphi_u_dz,v_j).flatten())\n",
    "d2udx2 = np.diag(np.matmul(d2phi_u_dx2,u_j).flatten())\n",
    "d2udz2 = np.diag(np.matmul(d2phi_u_dz2,u_j).flatten())\n",
    "d2udxdz = np.diag(np.matmul(d2phi_u_dxdz,u_j).flatten())\n",
    "d2vdx2 = np.diag(np.matmul(d2phi_u_dx2,v_j).flatten())\n",
    "d2vdz2 = np.diag(np.matmul(d2phi_u_dz2,v_j).flatten())\n",
    "d2vdxdz = np.diag(np.matmul(d2phi_u_dxdz,v_j).flatten())"
   ],
   "outputs": [],
   "metadata": {}
  },
  {
   "cell_type": "code",
   "execution_count": 18,
   "source": [
    "gov_mat = np.zeros((2*N,2*N))\n",
    "\n",
    "#horizontal momentum:\n",
    "\n",
    "#viscosity terms\n",
    "gov_mat[0:N,0:N] =  2*np.matmul(dudx,dphi_u_dx) + 2*np.matmul(d2udx2,phi_u) + np.matmul(dudz + dvdx,dphi_u_dz) + np.matmul(d2udz2+d2vdxdz,phi_u)\n",
    "\n",
    "#pressure term\n",
    "\n",
    "gov_mat[0:N,N:2*N] = -dphi_u_dx\n",
    "\n",
    "#vertical momentum:\n",
    "\n",
    "gov_mat[N:2*N,0:N] =  2*np.matmul(dvdz,dphi_u_dz) + 2*np.matmul(d2vdz2,phi_u) + np.matmul(dudz + dvdx,dphi_u_dx) + np.matmul(d2udxdz+d2vdx2,phi_u)\n",
    "\n",
    "#pressure term\n",
    "\n",
    "gov_mat[N:2*N,N:2*N] = -dphi_u_dz \n",
    "\n",
    "\n",
    "#boundary conditions\n",
    "#at the surface we require that mu = 0 and p = 0\n",
    "\n",
    "gov_mat[nbc3:N,:] = 0\n",
    "gov_mat[nbc3+N:2*N,:] = 0\n",
    "\n",
    "#viscosity bc:\n",
    "gov_mat[nbc3:N,0:N] = phi_u[nbc3:N,0:N]\n",
    "\n",
    "#pressure bc:\n",
    "gov_mat[nbc3+N:2*N,N:2*N] = phi_u[nbc3:N,0:N]"
   ],
   "outputs": [],
   "metadata": {}
  },
  {
   "cell_type": "code",
   "execution_count": 19,
   "source": [
    "#inhomogeneous condition\n",
    "\n",
    "bc_vector = np.zeros((2*N,1))\n",
    "bc_vector[0:N,0] = np.diag(u)*np.diag(dudx) + np.diag(v)*np.diag(dudz) - g*np.sin(tilt_angle)\n",
    "bc_vector[N:2*N,0] = np.diag(u)*np.diag(dvdx) + np.diag(v)*np.diag(dvdz) + g*np.cos(tilt_angle)\n",
    "bc_vector[nbc3:N,0] = mu_true\n",
    "bc_vector[nbc3+N:2*N,0] = 0\n",
    "\n",
    "solution_vector = np.linalg.solve(gov_mat,bc_vector)\n",
    "\n",
    "p_LA = np.matmul(phi_u,solution_vector[N:2*N,:])\n",
    "nu_LA = np.matmul(phi_u,solution_vector[0:N,:])"
   ],
   "outputs": [],
   "metadata": {}
  },
  {
   "cell_type": "code",
   "execution_count": 20,
   "source": [
    "#plt.contourf(p_LA[0:nbc0,:].reshape((nxi,nzi))) \n",
    "#plt.colorbar() \n",
    "#plt.plot(p_LA) \n",
    "\n",
    "plt.plot(nu_LA) \n",
    "plt.ylim([0,1])"
   ],
   "outputs": [
    {
     "output_type": "execute_result",
     "data": {
      "text/plain": [
       "(0.0, 1.0)"
      ]
     },
     "metadata": {},
     "execution_count": 20
    },
    {
     "output_type": "display_data",
     "data": {
      "image/png": "[encoded data removed]",
      "text/plain": [
       "<Figure size 432x288 with 1 Axes>"
      ]
     },
     "metadata": {
      "needs_background": "light"
     }
    }
   ],
   "metadata": {}
  },
  {
   "cell_type": "code",
   "execution_count": 21,
   "source": [
    "#testing\n",
    "\n",
    "#analytical solution:\n",
    "\n",
    "nu = X[:,0:1]*0 + mu_true\n",
    "p = (1-X[:,1:2])*g*np.cos(tilt_angle)\n",
    "\n",
    "nuj = np.linalg.solve(phi_u,nu)\n",
    "puj = np.linalg.solve(phi_u,p)\n",
    "\n",
    "q_true = np.concatenate((nuj,puj))\n",
    "test_sol = np.matmul(gov_mat,q_true)\n",
    "plt.plot(test_sol-bc_vector)\n",
    "plt.plot(test_sol*0)"
   ],
   "outputs": [
    {
     "output_type": "execute_result",
     "data": {
      "text/plain": [
       "[<matplotlib.lines.Line2D at 0x7fcf1f937eb0>]"
      ]
     },
     "metadata": {},
     "execution_count": 21
    },
    {
     "output_type": "display_data",
     "data": {
      "image/png": "[encoded data removed]",
      "text/plain": [
       "<Figure size 432x288 with 1 Axes>"
      ]
     },
     "metadata": {
      "needs_background": "light"
     }
    }
   ],
   "metadata": {}
  },
  {
   "cell_type": "code",
   "execution_count": null,
   "source": [],
   "outputs": [],
   "metadata": {}
  }
 ],
 "metadata": {
  "orig_nbformat": 4,
  "language_info": {
   "name": "python",
   "version": "3.8.5",
   "mimetype": "text/x-python",
   "codemirror_mode": {
    "name": "ipython",
    "version": 3
   },
   "pygments_lexer": "ipython3",
   "nbconvert_exporter": "python",
   "file_extension": ".py"
  },
  "kernelspec": {
   "name": "python3",
   "display_name": "Python 3.8.5 64-bit"
  },
  "interpreter": {
   "hash": "916dbcbb3f70747c44a77c7bcd40155683ae19c65e1c03b4aa3499c5328201f1"
  }
 },
 "nbformat": 4,
 "nbformat_minor": 2
}