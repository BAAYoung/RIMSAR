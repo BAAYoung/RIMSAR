{
 "cells": [
  {
   "cell_type": "code",
   "execution_count": 1,
   "source": [
    "import numpy as np \n",
    "import matplotlib.pyplot as plt \n",
    "from scipy.interpolate import LinearNDInterpolator\n",
    "from scipy.ndimage import gaussian_filter "
   ],
   "outputs": [],
   "metadata": {}
  },
  {
   "cell_type": "code",
   "execution_count": 2,
   "source": [
    "#data = np.loadtxt('cavityNewtonian_Re0_1_0.csv',delimiter = ',')\n",
    "data = np.loadtxt('cavityNonNewtonian_n1_k0_01_0.csv',delimiter = ',')\n",
    "u_data = data[:,1] \n",
    "v_data = data[:,2]\n",
    "X = data[:,4]\n",
    "Z = data[:,5]\n",
    "\n",
    "dx = 0.02\n",
    "xx,zz = np.meshgrid(np.arange(0,1.0+dx,dx),np.arange(0,1.0+dx,dx))\n",
    "u_interp = LinearNDInterpolator(list(zip(X,Z)), u_data)\n",
    "v_interp = LinearNDInterpolator(list(zip(X,Z)), v_data)\n",
    "\n",
    "u1 = u_interp(xx,zz)\n",
    "v1 = v_interp(xx,zz)\n"
   ],
   "outputs": [],
   "metadata": {}
  },
  {
   "cell_type": "code",
   "execution_count": 3,
   "source": [
    "plt.contourf(xx,zz,u1)"
   ],
   "outputs": [
    {
     "output_type": "execute_result",
     "data": {
      "text/plain": [
       "<matplotlib.contour.QuadContourSet at 0x7f9d206ac370>"
      ]
     },
     "metadata": {},
     "execution_count": 3
    },
    {
     "output_type": "display_data",
     "data": {
      "image/png": "[encoded data removed]",
      "text/plain": [
       "<Figure size 432x288 with 1 Axes>"
      ]
     },
     "metadata": {
      "needs_background": "light"
     }
    }
   ],
   "metadata": {}
  },
  {
   "cell_type": "code",
   "execution_count": null,
   "source": [],
   "outputs": [],
   "metadata": {}
  }
 ],
 "metadata": {
  "orig_nbformat": 4,
  "language_info": {
   "name": "python",
   "version": "3.8.5",
   "mimetype": "text/x-python",
   "codemirror_mode": {
    "name": "ipython",
    "version": 3
   },
   "pygments_lexer": "ipython3",
   "nbconvert_exporter": "python",
   "file_extension": ".py"
  },
  "kernelspec": {
   "name": "python3",
   "display_name": "Python 3.8.5 64-bit"
  },
  "interpreter": {
   "hash": "916dbcbb3f70747c44a77c7bcd40155683ae19c65e1c03b4aa3499c5328201f1"
  }
 },
 "nbformat": 4,
 "nbformat_minor": 2
}