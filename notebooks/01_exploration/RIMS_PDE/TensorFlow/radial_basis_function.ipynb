{
 "cells": [
  {
   "cell_type": "code",
   "execution_count": 1,
   "metadata": {},
   "outputs": [],
   "source": [
    "from sympy import * "
   ]
  },
  {
   "cell_type": "code",
   "execution_count": 4,
   "metadata": {},
   "outputs": [],
   "source": [
    "x_i, x_j, z_i, z_j = symbols('x_i x_j z_i z_j')"
   ]
  },
  {
   "cell_type": "code",
   "execution_count": 5,
   "metadata": {},
   "outputs": [
    {
     "name": "stdout",
     "output_type": "stream",
     "text": [
      "                           2                               \n",
      "⎛          2             2⎞     ⎛          2             2⎞\n",
      "⎝(xᵢ - x_j)  + (zᵢ - z_j) ⎠ ⋅log⎝(xᵢ - x_j)  + (zᵢ - z_j) ⎠\n"
     ]
    }
   ],
   "source": [
    "phi = ( (x_i-x_j)**2 + (z_i-z_j)**2 )**2*log((x_i - x_j)**2 + (z_i - z_j)**2)\n",
    "pprint(phi)"
   ]
  },
  {
   "cell_type": "code",
   "execution_count": 14,
   "metadata": {},
   "outputs": [
    {
     "name": "stdout",
     "output_type": "stream",
     "text": [
      "4*(x_i - x_j)*(z_i - z_j)*(2*log((x_i - x_j)**2 + (z_i - z_j)**2) + 3)\n"
     ]
    }
   ],
   "source": [
    "dphidxdz = simplify(phi.diff(x_i).diff(z_i))\n",
    "print(dphidxdz)"
   ]
  },
  {
   "cell_type": "code",
   "execution_count": 13,
   "metadata": {},
   "outputs": [
    {
     "name": "stdout",
     "output_type": "stream",
     "text": [
      "14*(x_i - x_j)**2 + 2*(z_i - z_j)**2 + 4*(3*(x_i - x_j)**2 + (z_i - z_j)**2)*log((x_i - x_j)**2 + (z_i - z_j)**2)\n"
     ]
    }
   ],
   "source": [
    "d2phidx2 = simplify(phi.diff(x_i,2))\n",
    "print(d2phidx2)"
   ]
  },
  {
   "cell_type": "code",
   "execution_count": 18,
   "metadata": {},
   "outputs": [
    {
     "name": "stdout",
     "output_type": "stream",
     "text": [
      "2*(x_i - x_j)**2 + 14*(z_i - z_j)**2 + 4*((x_i - x_j)**2 + 3*(z_i - z_j)**2)*log((x_i - x_j)**2 + (z_i - z_j)**2)\n"
     ]
    }
   ],
   "source": [
    "d2phidz2 = simplify(phi.diff(z_i,2))\n",
    "print(d2phidz2)"
   ]
  },
  {
   "cell_type": "code",
   "execution_count": 15,
   "metadata": {},
   "outputs": [
    {
     "name": "stdout",
     "output_type": "stream",
     "text": [
      "            2                2     ⎛          2               2⎞    ⎛         \n",
      "2⋅(xᵢ - x_j)  + 14⋅(zᵢ - z_j)  + 4⋅⎝(xᵢ - x_j)  + 3⋅(zᵢ - z_j) ⎠⋅log⎝(xᵢ - x_j\n",
      "\n",
      " 2             2⎞\n",
      ")  + (zᵢ - z_j) ⎠\n"
     ]
    }
   ],
   "source": [
    "pprint(simplify(phi.diff(z_j,2)))"
   ]
  },
  {
   "cell_type": "code",
   "execution_count": null,
   "metadata": {},
   "outputs": [],
   "source": []
  }
 ],
 "metadata": {
  "interpreter": {
   "hash": "916dbcbb3f70747c44a77c7bcd40155683ae19c65e1c03b4aa3499c5328201f1"
  },
  "kernelspec": {
   "display_name": "Python 3.8.5 64-bit",
   "name": "python3"
  },
  "language_info": {
   "codemirror_mode": {
    "name": "ipython",
    "version": 3
   },
   "file_extension": ".py",
   "mimetype": "text/x-python",
   "name": "python",
   "nbconvert_exporter": "python",
   "pygments_lexer": "ipython3",
   "version": "3.8.5"
  },
  "orig_nbformat": 4
 },
 "nbformat": 4,
 "nbformat_minor": 2
}
