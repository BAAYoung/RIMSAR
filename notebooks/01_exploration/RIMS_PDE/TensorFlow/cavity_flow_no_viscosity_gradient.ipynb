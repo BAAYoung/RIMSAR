{
 "cells": [
  {
   "cell_type": "code",
   "execution_count": 117,
   "metadata": {},
   "outputs": [],
   "source": [
    "import numpy as np \n",
    "import matplotlib.pyplot as plt \n",
    "from scipy.ndimage import gaussian_filter\n",
    "from scipy.interpolate import LinearNDInterpolator"
   ]
  },
  {
   "cell_type": "code",
   "execution_count": 118,
   "metadata": {},
   "outputs": [],
   "source": [
    "def phi_calc(Xi,Xj,N_internal, Xj_neighbours):\n",
    "    Ni = Xi.shape[0]\n",
    "    Nj = Xj.shape[0]\n",
    "    phi_mat = np.zeros((Ni,Nj))\n",
    "    dphidx_mat = np.zeros((Ni,Nj))\n",
    "    dphidz_mat = np.zeros((Ni,Nj))\n",
    "    d2phidx2_mat = np.zeros((Ni,Nj))\n",
    "    d2phidz2_mat = np.zeros((Ni,Nj))\n",
    "    d2phidxdz_mat = np.zeros((Ni,Nj))\n",
    "\n",
    "\n",
    "    #taking the ith point from Xi:\n",
    "    for i in range(0,Ni):\n",
    "\n",
    "        x = Xi[i,0]\n",
    "        z = Xi[i,1]\n",
    "\n",
    "        #finding the nearest point in the internal points in Xj\n",
    "        nearest_point = np.argmin((Xj[0:N_internal,0]-x)**2 + (Xj[0:N_internal,1]-z)**2)\n",
    "        #print(nearest_point)\n",
    "\n",
    "        #the indices of points used for interpolation is therefore given by the neighbours of the nearest point\n",
    "        #Xj_neighbours[nearest_point,:]\n",
    "\n",
    "        #which have a coordinate set:\n",
    "        X = Xj[Xj_neighbours[nearest_point,:],:]\n",
    "\n",
    "        #fitting polynomial:\n",
    "        poly_mat = np.zeros((9,9))\n",
    "\n",
    "        for j in range(0,9):\n",
    "            poly_mat[j,0] = 1\n",
    "            poly_mat[j,1] = X[j,0]\n",
    "            poly_mat[j,2] = X[j,1]\n",
    "            poly_mat[j,3] = X[j,0]**2\n",
    "            poly_mat[j,4] = X[j,1]**2\n",
    "            poly_mat[j,5] = X[j,0]*X[j,1]\n",
    "            poly_mat[j,6] = X[j,0]**2*X[j,1]\n",
    "            poly_mat[j,7] = X[j,1]**2*X[j,0]\n",
    "            poly_mat[j,8] = X[j,0]**2*X[j,1]**2\n",
    "\n",
    "\n",
    "        #matrix of polynomial coefficients\n",
    "        #print(i)\n",
    "        \n",
    "        coef_mat = np.linalg.inv(poly_mat)\n",
    "        #print(np.linalg.cond(coef_mat))\n",
    "\n",
    "\n",
    "        #calculating the value of the 9 polynomials at point (x,z)\n",
    "        polynomial = np.zeros((1,9))\n",
    "        for j in range(0,9):\n",
    "            polynomial[:,j] = coef_mat[0,j] + coef_mat[1,j]*x + coef_mat[2,j]*z + coef_mat[3,j]*x*x + coef_mat[4,j]*z*z \n",
    "            polynomial[:,j] += coef_mat[5,j]*x*z + coef_mat[6,j]*x*x*z + coef_mat[7,j]*x*z*z + coef_mat[8,j]*x*x*z*z\n",
    "\n",
    "        #calculating value of derivatives at point (x,z)\n",
    "        dpdx = np.zeros((1,9))\n",
    "        for j in range(0,9):\n",
    "            dpdx[:,j] = coef_mat[1,j] + 2*coef_mat[3,j]*x + coef_mat[5,j]*z + coef_mat[6,j]*x*z*2 + coef_mat[7,j]*z*z + coef_mat[8,j]*x*z*z*2\n",
    "\n",
    "        dpdz = np.zeros((1,9))\n",
    "        for j in range(0,9):\n",
    "            dpdz[:,j] = coef_mat[2,j] + 2*coef_mat[4,j]*z + coef_mat[5,j]*x + coef_mat[6,j]*x*x + coef_mat[7,j]*x*z*2 + coef_mat[8,j]*x*x*z*2\n",
    "\n",
    "        d2pdx2 = np.zeros((1,9))\n",
    "        for j in range(0,9):\n",
    "            d2pdx2[:,j] = 2*coef_mat[3,j] + coef_mat[6,j]*2*z + coef_mat[8,j]*2*z*z\n",
    "\n",
    "        d2pdz2 = np.zeros((1,9))\n",
    "        for j in range(0,9):\n",
    "            d2pdz2[:,j] = 2*coef_mat[4,j] + coef_mat[7,j]*2*x + coef_mat[8,j]*x*x*2\n",
    "\n",
    "        d2pdxdz = np.zeros((1,9))\n",
    "        for j in range(0,9):\n",
    "            d2pdxdz[:,j] = coef_mat[5,j] + coef_mat[6,j]*2*x + coef_mat[7,j]*2*z + coef_mat[8,j]*4*x*z\n",
    "\n",
    "\n",
    "        #inserting vector of polynomial values back into the phi matrix:\n",
    "        phi_mat[i,Xj_neighbours[nearest_point,:]] = polynomial\n",
    "        dphidx_mat[i,Xj_neighbours[nearest_point,:]] = dpdx\n",
    "        dphidz_mat[i,Xj_neighbours[nearest_point,:]] = dpdz\n",
    "        d2phidz2_mat[i,Xj_neighbours[nearest_point,:]] = d2pdz2 \n",
    "        d2phidx2_mat[i,Xj_neighbours[nearest_point,:]] = d2pdx2 \n",
    "        d2phidxdz_mat[i,Xj_neighbours[nearest_point,:]] = d2pdxdz \n",
    "\n",
    "\n",
    "    return phi_mat, dphidx_mat, dphidz_mat, d2phidx2_mat,d2phidz2_mat,d2phidxdz_mat"
   ]
  },
  {
   "cell_type": "code",
   "execution_count": 119,
   "metadata": {},
   "outputs": [],
   "source": [
    "#numerical parameters\n",
    "pi = 3.14159\n",
    "dx = 0.1\n",
    "g = 1.0\n",
    "tilt_angle = pi/4"
   ]
  },
  {
   "cell_type": "code",
   "execution_count": 120,
   "metadata": {},
   "outputs": [],
   "source": [
    "#building grid:\n",
    "dx = 0.05\n",
    "#xx,zz = np.meshgrid(np.arange(0,1+dx,dx),np.arange(0,1+dx,dx))\n",
    "xx,zz = np.meshgrid(np.arange(0.05,0.95+dx,dx),np.arange(0.05,0.95+dx,dx))\n",
    "nx = xx.shape[0]\n",
    "nz = xx.shape[1]\n",
    "xxi = xx[1:-1,1:-1]\n",
    "zzi = zz[1:-1,1:-1]\n",
    "nxi = xxi.shape[0]\n",
    "nzi = zzi.shape[1]\n",
    "Xinternal = np.stack((xxi.flatten(),zzi.flatten()),axis=1)\n",
    "Xbc1 = np.stack((xx[1:-1,0].flatten(),zz[1:-1,0].flatten()),axis=1)\n",
    "Xbc2 = np.stack((xx[1:-1,-1].flatten(),zz[1:-1,-1].flatten()),axis=1)\n",
    "Xbc3 = np.stack((xx[0,:].flatten(),zz[0,:].flatten()),axis=1)\n",
    "Xbc4 = np.stack((xx[-1,:].flatten(),zz[-1,:].flatten()),axis=1)\n",
    "nbc0 = Xinternal.shape[0]\n",
    "N_internal = nbc0 + 0\n",
    "nbc1 = Xbc1.shape[0] + nbc0\n",
    "nbc2 = Xbc2.shape[0] + nbc1\n",
    "nbc3 = Xbc3.shape[0] + nbc2 \n",
    "ncb4 = Xbc4.shape[0] + nbc3\n",
    "X = np.concatenate((Xinternal,Xbc1,Xbc2,Xbc3,Xbc4),axis=0)\n",
    "N = X.shape[0]\n",
    "\n",
    "#finding neighbouring points:\n",
    "\n",
    "#finding nnearest neighbours of each point in Xj\n",
    "r2 = (X[:,0:1]-X[:,0:1].transpose())**2 + (X[:,1:2]-X[:,1:2].transpose())**2\n",
    "\n",
    "X_neighbours = np.zeros((X.shape[0],9),dtype = int)\n",
    "\n",
    "X_neighbours = np.zeros((X.shape[0],9),dtype = int)\n",
    "for i in range(0,X.shape[0]):\n",
    "    X_neighbours[i,:] = (np.argpartition(r2[:,i],9)[0:9])\n",
    "\n",
    "phi_testing = False"
   ]
  },
  {
   "cell_type": "code",
   "execution_count": 121,
   "metadata": {},
   "outputs": [],
   "source": [
    "#solving:\n",
    "\n",
    "#Nusselt Solution:\n",
    "\n",
    "mu_true = 0.01\n",
    "\n",
    "#data = np.loadtxt('cavityNewtonian_Re0_1_0.csv',delimiter = ',')\n",
    "data = np.loadtxt('cavityNonNewtonian_n0_5_k0_01_0.csv',delimiter = ',')\n",
    "data = np.loadtxt('cavityNonNewtonian_n2_k0_01_0.csv',delimiter = ',')\n",
    "\n",
    "u_data = data[:,1] \n",
    "v_data = data[:,2]\n",
    "p_data = data[:,0]\n",
    "Xu = data[:,4]\n",
    "Zu = data[:,5]\n",
    "\n",
    "\n",
    "\n",
    "u_interp = LinearNDInterpolator(list(zip(Xu,Zu)), u_data)\n",
    "v_interp = LinearNDInterpolator(list(zip(Xu,Zu)), v_data)\n",
    "p_interp = LinearNDInterpolator(list(zip(Xu,Zu)), p_data)\n",
    "\n",
    "u_test = u_interp(X[:,0:1],X[:,1:2])\n",
    "v_test = v_interp(X[:,0:1],X[:,1:2])\n",
    "p_test = p_interp(X[:,0:1],X[:,1:2])\n",
    "\n",
    "#Nusselt:\n",
    "\n",
    "mu_true = 0.1\n",
    "\n",
    "#u_test = g*np.sin(tilt_angle)*(X[:,1:2]-0.5*X[:,1:2]**2)/mu_true\n",
    "#v_test = u_test*0\n",
    "\n",
    "#applying noise:\n",
    "\n",
    "epsilon = 0.0\n",
    "\n",
    "u_test += epsilon*np.random.randn(u_test.shape[0],u_test.shape[1])\n",
    "\n",
    "#finding relevent derivative fields:\n",
    "phi_mat, dphidx_mat, dphidz_mat, d2phidx2_mat,d2phidz2_mat,d2phidxdz_mat = phi_calc(X,X,N_internal, X_neighbours)\n",
    "\n",
    "\n",
    "phi_u = phi_mat + 0\n",
    "nabla2_phi_u = d2phidx2_mat + d2phidz2_mat\n",
    "dphi_u_dx = dphidx_mat + 0\n",
    "dphi_u_dz = dphidz_mat + 0\n",
    "d2phi_u_dx2 = d2phidx2_mat + 0\n",
    "d2phi_u_dz2 = d2phidz2_mat + 0\n",
    "d2phi_u_dxdz = d2phidxdz_mat + 0\n",
    "\n",
    "\n",
    "u_j = np.linalg.solve(phi_u,u_test)\n",
    "v_j = np.linalg.solve(phi_u,v_test)\n",
    "\n",
    "u = np.diag(u_test.flatten())\n",
    "v = np.diag(v_test.flatten())\n",
    "nabla2_u = np.diag(np.matmul(nabla2_phi_u,u_j).flatten())\n",
    "nabla2_v = np.diag(np.matmul(nabla2_phi_u,v_j).flatten())\n",
    "dudx = np.diag(np.matmul(dphi_u_dx,u_j).flatten())\n",
    "dudz = np.diag(np.matmul(dphi_u_dz,u_j).flatten())\n",
    "dvdx = np.diag(np.matmul(dphi_u_dx,v_j).flatten())\n",
    "dvdz = np.diag(np.matmul(dphi_u_dz,v_j).flatten())\n",
    "d2udx2 = np.diag(np.matmul(d2phi_u_dx2,u_j).flatten())\n",
    "d2udz2 = np.diag(np.matmul(d2phi_u_dz2,u_j).flatten())\n",
    "d2udxdz = np.diag(np.matmul(d2phi_u_dxdz,u_j).flatten())\n",
    "d2vdx2 = np.diag(np.matmul(d2phi_u_dx2,v_j).flatten())\n",
    "d2vdz2 = np.diag(np.matmul(d2phi_u_dz2,v_j).flatten())\n",
    "d2vdxdz = np.diag(np.matmul(d2phi_u_dxdz,v_j).flatten())"
   ]
  },
  {
   "cell_type": "code",
   "execution_count": 122,
   "metadata": {},
   "outputs": [],
   "source": [
    "gov_mat = np.zeros((2*N,2*N))\n",
    "\n",
    "#horizontal momentum:\n",
    "\n",
    "#viscosity terms\n",
    "gov_mat[0:N,0:N] =  2*np.matmul(dudx,dphi_u_dx) + 2*np.matmul(d2udx2,phi_u) + np.matmul(dudz + dvdx,dphi_u_dz) + np.matmul(d2udz2+d2vdxdz,phi_u)\n",
    "\n",
    "#pressure term\n",
    "\n",
    "gov_mat[0:N,N:2*N] = -dphi_u_dx\n",
    "\n",
    "#vertical momentum:\n",
    "\n",
    "gov_mat[N:2*N,0:N] =  2*np.matmul(dvdz,dphi_u_dz) + 2*np.matmul(d2vdz2,phi_u) + np.matmul(dudz + dvdx,dphi_u_dx) + np.matmul(d2udxdz+d2vdx2,phi_u)\n",
    "\n",
    "#pressure term\n",
    "\n",
    "gov_mat[N:2*N,N:2*N] = -dphi_u_dz \n",
    "\n",
    "\n",
    "#boundary conditions\n",
    "#at the surface we require that mu = 0 and p = 0\n",
    "\n",
    "#gov_mat[nbc3:N,:] = 0\n",
    "#gov_mat[nbc3+N:2*N,:] = 0\n",
    "\n",
    "#viscosity bc:\n",
    "#gov_mat[nbc3:N,0:N] = phi_u[nbc3:N,0:N]\n",
    "\n",
    "#pressure bc:\n",
    "#gov_mat[nbc3+N:2*N,N:2*N] = phi_u[nbc3:N,0:N]"
   ]
  },
  {
   "cell_type": "code",
   "execution_count": 123,
   "metadata": {},
   "outputs": [],
   "source": [
    "#inhomogeneous condition\n",
    "\n",
    "bc_vector = np.zeros((2*N,1))\n",
    "bc_vector[0:N,0] = np.diag(u)*np.diag(dudx) + np.diag(v)*np.diag(dudz) #- g*np.sin(tilt_angle)\n",
    "bc_vector[N:2*N,0] = np.diag(u)*np.diag(dvdx) + np.diag(v)*np.diag(dvdz) #+ g*np.cos(tilt_angle)\n",
    "#bc_vector[nbc3:N,0] = 0.01\n",
    "#bc_vector[nbc3+N:2*N,0] = 0\n"
   ]
  },
  {
   "cell_type": "code",
   "execution_count": 124,
   "metadata": {},
   "outputs": [
    {
     "name": "stderr",
     "output_type": "stream",
     "text": [
      "<ipython-input-124-423c9e138c8d>:13: FutureWarning: `rcond` parameter will change to the default of machine precision times ``max(M, N)`` where M and N are the input matrix dimensions.\n",
      "To use the future default and silence this warning we advise to pass `rcond=None`, to keep using the old, explicitly pass `rcond=-1`.\n",
      "  LS_solution = np.linalg.lstsq(LS_mat,LS_vect)\n"
     ]
    }
   ],
   "source": [
    "viscosity_smoothness_parameter = 10\n",
    "pressure_smoothness_parameter = 1000\n",
    "LS_mat = np.zeros((5*N,2*N))\n",
    "LS_vect = np.zeros((5*N,1))\n",
    "LS_mat[0:2*N,0:2*N] = gov_mat\n",
    "LS_mat[2*N:3*N,0:N] = viscosity_smoothness_parameter*dphi_u_dz*dx\n",
    "LS_mat[3*N:4*N,0:N] = viscosity_smoothness_parameter*dphi_u_dx*dx\n",
    "LS_mat[4*N:5*N,N:2*N] = pressure_smoothness_parameter*phi_u\n",
    "\n",
    "\n",
    "LS_vect[0:2*N,:] = bc_vector\n",
    "LS_vect[4*N:5*N,:] = pressure_smoothness_parameter*p_test\n",
    "LS_solution = np.linalg.lstsq(LS_mat,LS_vect)"
   ]
  },
  {
   "cell_type": "code",
   "execution_count": 129,
   "metadata": {},
   "outputs": [
    {
     "data": {
      "text/plain": [
       "Text(0.5, 0, 'shear')"
      ]
     },
     "execution_count": 129,
     "metadata": {},
     "output_type": "execute_result"
    },
    {
     "data": {
      "image/png": "[encoded data removed]",
      "text/plain": [
       "<Figure size 576x576 with 1 Axes>"
      ]
     },
     "metadata": {
      "needs_background": "light"
     },
     "output_type": "display_data"
    }
   ],
   "source": [
    "plt.figure(figsize=(8,8))\n",
    "gamma = np.sqrt(np.diag(dudx)**2 + np.diag(dudz)**2 + np.diag(dvdx)**2 + np.diag(dvdz)**2)\n",
    "plt.plot(gamma,LS_solution[0][0:N,:],'.')\n",
    "gamma_plot = np.arange(0.1,10,0.1)\n",
    "#plt.plot(gamma_plot-0.2,0.01*gamma_plot**(-0.5),'k')\n",
    "plt.plot(gamma_plot-0.3,gamma_plot*0.01,'k')\n",
    "plt.xlim([0,5])\n",
    "plt.ylabel('viscosity')\n",
    "plt.xlabel('shear')"
   ]
  },
  {
   "cell_type": "code",
   "execution_count": 126,
   "metadata": {},
   "outputs": [
    {
     "data": {
      "text/plain": [
       "<matplotlib.colorbar.Colorbar at 0x7f41e158cd60>"
      ]
     },
     "execution_count": 126,
     "metadata": {},
     "output_type": "execute_result"
    },
    {
     "data": {
      "image/png": "[encoded data removed]",
      "text/plain": [
       "<Figure size 432x288 with 2 Axes>"
      ]
     },
     "metadata": {
      "needs_background": "light"
     },
     "output_type": "display_data"
    }
   ],
   "source": [
    "plt.tricontourf(X[:,0],X[:,1],LS_solution[0][N:2*N,0],levels=100)\n",
    "#plt.tricontourf(Xr[:,0],Xr[:,1],p_hydrostatic[:,0],levels=100)\n",
    "plt.colorbar()"
   ]
  },
  {
   "cell_type": "code",
   "execution_count": 127,
   "metadata": {},
   "outputs": [
    {
     "data": {
      "text/plain": [
       "<matplotlib.colorbar.Colorbar at 0x7f41e0c88940>"
      ]
     },
     "execution_count": 127,
     "metadata": {},
     "output_type": "execute_result"
    },
    {
     "data": {
      "image/png": "[encoded data removed]",
      "text/plain": [
       "<Figure size 432x288 with 2 Axes>"
      ]
     },
     "metadata": {
      "needs_background": "light"
     },
     "output_type": "display_data"
    }
   ],
   "source": [
    "plt.tricontourf(X[:,0],X[:,1],p_test[:,0],levels=100)\n",
    "#plt.tricontourf(Xr[:,0],Xr[:,1],p_hydrostatic[:,0],levels=100)\n",
    "plt.colorbar()"
   ]
  },
  {
   "cell_type": "code",
   "execution_count": null,
   "metadata": {},
   "outputs": [],
   "source": []
  }
 ],
 "metadata": {
  "interpreter": {
   "hash": "916dbcbb3f70747c44a77c7bcd40155683ae19c65e1c03b4aa3499c5328201f1"
  },
  "kernelspec": {
   "display_name": "Python 3.8.5 64-bit",
   "name": "python3"
  },
  "language_info": {
   "codemirror_mode": {
    "name": "ipython",
    "version": 3
   },
   "file_extension": ".py",
   "mimetype": "text/x-python",
   "name": "python",
   "nbconvert_exporter": "python",
   "pygments_lexer": "ipython3",
   "version": "3.8.5"
  },
  "orig_nbformat": 4
 },
 "nbformat": 4,
 "nbformat_minor": 2
}
