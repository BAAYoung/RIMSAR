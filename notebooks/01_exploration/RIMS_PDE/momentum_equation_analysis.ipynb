{
 "metadata": {
  "language_info": {
   "codemirror_mode": {
    "name": "ipython",
    "version": 3
   },
   "file_extension": ".py",
   "mimetype": "text/x-python",
   "name": "python",
   "nbconvert_exporter": "python",
   "pygments_lexer": "ipython3",
   "version": "3.8.5"
  },
  "orig_nbformat": 4,
  "kernelspec": {
   "name": "python3",
   "display_name": "Python 3.8.5 64-bit"
  },
  "interpreter": {
   "hash": "31f2aee4e71d21fbe5cf8b01ff0e069b9275f58929596ceb00d14d90e3e16cd6"
  }
 },
 "nbformat": 4,
 "nbformat_minor": 2,
 "cells": [
  {
   "cell_type": "code",
   "execution_count": 21,
   "metadata": {},
   "outputs": [],
   "source": [
    "from sympy import *\n",
    "\n",
    "x,z, mu_0, mu_x, mu_z, mu_xx, mu_xz, mu_zz = symbols('x z mu_0 mu_x mu_z mu_xx mu_xz mu_zz')\n",
    "mu = Function('mu')(x,z)\n",
    "uu = Function('uu')(x,z)\n",
    "vv = Function('vv')(x,z)\n",
    "uv = Function('uv')(x,z)\n",
    "u = Function('u')(x,z)\n",
    "v = Function('v')(x,z)"
   ]
  },
  {
   "cell_type": "code",
   "execution_count": 22,
   "metadata": {},
   "outputs": [
    {
     "output_type": "stream",
     "name": "stdout",
     "text": [
      "                                            ⎛  2               2          ⎞   \n  ⎛∂             ∂          ⎞ ∂             ⎜ ∂               ∂           ⎟   \n- ⎜──(u(x, z)) + ──(v(x, z))⎟⋅──(μ(x, z)) - ⎜───(u(x, z)) + ─────(v(x, z))⎟⋅μ(\n  ⎝∂z            ∂x         ⎠ ∂z            ⎜  2            ∂z ∂x         ⎟   \n                                            ⎝∂z                           ⎠   \n\n                    2                                                         \n                   ∂               ∂           ∂             ∂              ∂ \nx, z) - 2⋅μ(x, z)⋅───(u(x, z)) - 2⋅──(μ(x, z))⋅──(u(x, z)) + ──(uu(x, z)) + ──\n                    2              ∂x          ∂x            ∂x             ∂z\n                  ∂x                                                          \n\n          \n          \n(uv(x, z))\n          \n          \n"
     ]
    }
   ],
   "source": [
    "#horizontal momentum\n",
    "mox = uu.diff(x) + uv.diff(z) - (2*mu*u.diff(x,2) + 2*mu.diff(x)*u.diff(x) + mu*(u.diff(z,2) + v.diff(x).diff(z)) + mu.diff(z)*(u.diff(z) + v.diff(x)) )\n",
    "pprint(mox)"
   ]
  },
  {
   "cell_type": "code",
   "execution_count": 23,
   "metadata": {},
   "outputs": [
    {
     "output_type": "stream",
     "name": "stdout",
     "text": [
      "                                            ⎛  2               2          ⎞   \n  ⎛∂             ∂          ⎞ ∂             ⎜ ∂               ∂           ⎟   \n- ⎜──(u(x, z)) + ──(v(x, z))⎟⋅──(μ(x, z)) - ⎜───(v(x, z)) + ─────(u(x, z))⎟⋅μ(\n  ⎝∂z            ∂x         ⎠ ∂x            ⎜  2            ∂z ∂x         ⎟   \n                                            ⎝∂x                           ⎠   \n\n                    2                                                         \n                   ∂               ∂           ∂             ∂              ∂ \nx, z) - 2⋅μ(x, z)⋅───(v(x, z)) - 2⋅──(μ(x, z))⋅──(u(x, z)) + ──(uv(x, z)) + ──\n                    2              ∂z          ∂z            ∂x             ∂z\n                  ∂z                                                          \n\n          \n          \n(vv(x, z))\n          \n          \n"
     ]
    }
   ],
   "source": [
    "moz = vv.diff(z) + uv.diff(x) - (2*mu*v.diff(z,2) + 2*mu.diff(z)*u.diff(z) + mu*(u.diff(z).diff(x) + v.diff(x,2)) + mu.diff(x)*(u.diff(z) + v.diff(x)) )\n",
    "pprint(moz)"
   ]
  },
  {
   "cell_type": "code",
   "execution_count": 24,
   "metadata": {},
   "outputs": [],
   "source": [
    "stream_func = mox.diff(z) - moz.diff(x)\n"
   ]
  },
  {
   "cell_type": "code",
   "execution_count": 25,
   "metadata": {},
   "outputs": [
    {
     "output_type": "stream",
     "name": "stdout",
     "text": [
      "                                  2                                           \n  ⎛  ∂             ∂          ⎞  ∂             ⎛  ∂             ∂          ⎞  \n- ⎜- ──(u(x, z)) - ──(v(x, z))⎟⋅───(μ(x, z)) + ⎜- ──(u(x, z)) - ──(v(x, z))⎟⋅─\n  ⎝  ∂z            ∂x         ⎠   2            ⎝  ∂z            ∂x         ⎠  \n                                ∂x                                           ∂\n\n 2              ⎛    2               2          ⎞               ⎛    3        \n∂               ⎜   ∂               ∂           ⎟ ∂             ⎜   ∂         \n──(μ(x, z)) + 2⋅⎜- ───(u(x, z)) - ─────(v(x, z))⎟⋅──(μ(x, z)) + ⎜- ───(u(x, z)\n 2              ⎜    2            ∂z ∂x         ⎟ ∂z            ⎜    3        \nz               ⎝  ∂z                           ⎠               ⎝  ∂z         \n\n       3           ⎞             ⎛    2               2          ⎞            \n      ∂            ⎟             ⎜   ∂               ∂           ⎟ ∂          \n) - ──────(v(x, z))⎟⋅μ(x, z) - 2⋅⎜- ───(v(x, z)) - ─────(u(x, z))⎟⋅──(μ(x, z))\n      2            ⎟             ⎜    2            ∂z ∂x         ⎟ ∂x         \n    ∂z  ∂x         ⎠             ⎝  ∂x                           ⎠            \n\n   ⎛    3               3           ⎞                        3                \n   ⎜   ∂               ∂            ⎟                       ∂                 \n - ⎜- ───(v(x, z)) - ──────(u(x, z))⎟⋅μ(x, z) - 2⋅μ(x, z)⋅──────(u(x, z)) + 2⋅\n   ⎜    3                 2         ⎟                          2              \n   ⎝  ∂x             ∂z ∂x          ⎠                     ∂z ∂x               \n\n           3                              2                             2     \n          ∂                 ∂            ∂               ∂             ∂      \nμ(x, z)⋅──────(v(x, z)) + 2⋅──(μ(x, z))⋅───(v(x, z)) - 2⋅──(μ(x, z))⋅─────(u(x\n          2                 ∂x            2              ∂x          ∂z ∂x    \n        ∂z  ∂x                          ∂z                                    \n\n                        2                             2                       \n          ∂            ∂               ∂             ∂                ∂       \n, z)) - 2⋅──(μ(x, z))⋅───(u(x, z)) + 2⋅──(μ(x, z))⋅─────(u(x, z)) - 2⋅──(u(x, \n          ∂z            2              ∂z          ∂z ∂x              ∂x      \n                      ∂x                                                      \n\n       2                              2               2               2       \n      ∂                ∂             ∂               ∂               ∂        \nz))⋅─────(μ(x, z)) + 2⋅──(u(x, z))⋅─────(μ(x, z)) - ───(uv(x, z)) + ───(uv(x, \n    ∂z ∂x              ∂z          ∂z ∂x              2               2       \n                                                    ∂x              ∂z        \n\n         2                 2           \n        ∂                 ∂            \nz)) + ─────(uu(x, z)) - ─────(vv(x, z))\n      ∂z ∂x             ∂z ∂x          \n                                       \n"
     ]
    }
   ],
   "source": [
    "pprint(stream_func)"
   ]
  },
  {
   "cell_type": "code",
   "execution_count": 28,
   "metadata": {},
   "outputs": [
    {
     "output_type": "stream",
     "name": "stdout",
     "text": [
      "μ_xz\n"
     ]
    }
   ],
   "source": [
    "#collecting in values of mu:\n",
    "mu_test = mu_0 + x*mu_x + z*mu_z + x*z*mu_xz + 0.5*x*x*mu_xx + 0.5*z*z*mu_zz\n",
    "pprint(mu_test.diff(x,1).diff(z,1).subs(x,0).subs(z,0))"
   ]
  },
  {
   "cell_type": "code",
   "execution_count": 32,
   "metadata": {},
   "outputs": [
    {
     "output_type": "stream",
     "name": "stdout",
     "text": [
      "  ⎛  3         ⎞│      ⎛  3         ⎞│      ⎛   3           ⎞│           ⎛   3\n  ⎜ d          ⎟│      ⎜ d          ⎟│      ⎜  ∂            ⎟│           ⎜  ∂ \n- ⎜───(u(0, z))⎟│    + ⎜───(v(x, 0))⎟│    - ⎜──────(u(x, z))⎟│         + ⎜────\n  ⎜  3         ⎟│      ⎜  3         ⎟│      ⎜     2         ⎟│           ⎜  2 \n  ⎝dz          ⎠│z=0   ⎝dx          ⎠│x=0   ⎝∂z ∂x          ⎠│z=0, x=0   ⎝∂z  \n\n           ⎞│        \n           ⎟│        \n──(v(x, z))⎟│        \n           ⎟│        \n∂x         ⎠│z=0, x=0\n"
     ]
    }
   ],
   "source": [
    "stream_func = stream_func.subs(mu,mu_test).subs(x,0).subs(z,0).doit()\n",
    "mu_0_coeff = stream_func.diff(mu_0).doit()\n",
    "pprint(mu_0_coeff)"
   ]
  },
  {
   "cell_type": "code",
   "execution_count": null,
   "metadata": {},
   "outputs": [],
   "source": []
  }
 ]
}