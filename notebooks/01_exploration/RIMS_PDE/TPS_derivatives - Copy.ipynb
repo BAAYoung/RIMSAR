{
 "cells": [
  {
   "cell_type": "code",
   "execution_count": 2,
   "metadata": {},
   "outputs": [],
   "source": [
    "from sympy import * \n"
   ]
  },
  {
   "cell_type": "code",
   "execution_count": 3,
   "metadata": {},
   "outputs": [],
   "source": [
    "xi,zi, xj, zj, eps, a = symbols('xi zi xj zj eps a')"
   ]
  },
  {
   "cell_type": "code",
   "execution_count": 4,
   "metadata": {},
   "outputs": [],
   "source": [
    "r = sqrt((xi-xj)**2 + (zi-zj)**2)\n",
    "#r = Function('r')(xi,zi,xj,zj)\n",
    "#phi = Function('phi')(r)\n",
    "phi = exp(-(a*r)**2)"
   ]
  },
  {
   "cell_type": "code",
   "execution_count": 5,
   "metadata": {},
   "outputs": [
    {
     "name": "stdout",
     "output_type": "stream",
     "text": [
      "4*a**2*(a**2*(xi - xj)**2 + a**2*(zi - zj)**2 - 1)*exp(-a**2*((xi - xj)**2 + (zi - zj)**2))\n"
     ]
    }
   ],
   "source": [
    "lap_phi = simplify(phi.diff(xi,2) + phi.diff(zi,2)).doit()\n",
    "print(lap_phi)"
   ]
  },
  {
   "cell_type": "code",
   "execution_count": 6,
   "metadata": {},
   "outputs": [
    {
     "name": "stdout",
     "output_type": "stream",
     "text": [
      "2*a**2*(-xi + xj)*exp(-a**2*((xi - xj)**2 + (zi - zj)**2))\n"
     ]
    }
   ],
   "source": [
    "dphidx = simplify(phi.diff(xi))\n",
    "print(dphidx)"
   ]
  },
  {
   "cell_type": "code",
   "execution_count": 7,
   "metadata": {},
   "outputs": [
    {
     "name": "stdout",
     "output_type": "stream",
     "text": [
      "2*a**2*(-zi + zj)*exp(-a**2*((xi - xj)**2 + (zi - zj)**2))\n"
     ]
    }
   ],
   "source": [
    "dphidz = simplify(phi.diff(zi))\n",
    "print(dphidz)"
   ]
  },
  {
   "cell_type": "code",
   "execution_count": 8,
   "metadata": {},
   "outputs": [
    {
     "name": "stdout",
     "output_type": "stream",
     "text": [
      "a**2*(4*a**2*(xi - xj)**2 - 2)*exp(-a**2*((xi - xj)**2 + (zi - zj)**2))\n"
     ]
    }
   ],
   "source": [
    "d2phidx2 = simplify(phi.diff(xi,2))\n",
    "print(d2phidx2)\n"
   ]
  },
  {
   "cell_type": "code",
   "execution_count": 9,
   "metadata": {},
   "outputs": [
    {
     "name": "stdout",
     "output_type": "stream",
     "text": [
      "a**2*(4*a**2*(zi - zj)**2 - 2)*exp(-a**2*((xi - xj)**2 + (zi - zj)**2))\n"
     ]
    }
   ],
   "source": [
    "d2phidz2 = simplify(phi.diff(zi,2))\n",
    "print(d2phidz2)"
   ]
  },
  {
   "cell_type": "code",
   "execution_count": 11,
   "metadata": {},
   "outputs": [
    {
     "name": "stdout",
     "output_type": "stream",
     "text": [
      "4*a**4*(xi - xj)*(zi - zj)*exp(-a**2*((xi - xj)**2 + (zi - zj)**2))\n"
     ]
    }
   ],
   "source": [
    "d2phidxdz = simplify(phi.diff(xi).diff(zi))\n",
    "print(d2phidxdz)"
   ]
  },
  {
   "cell_type": "code",
   "execution_count": null,
   "metadata": {},
   "outputs": [],
   "source": []
  }
 ],
 "metadata": {
  "interpreter": {
   "hash": "31f2aee4e71d21fbe5cf8b01ff0e069b9275f58929596ceb00d14d90e3e16cd6"
  },
  "kernelspec": {
   "display_name": "Python 3.8.5 64-bit",
   "name": "python3"
  },
  "language_info": {
   "codemirror_mode": {
    "name": "ipython",
    "version": 3
   },
   "file_extension": ".py",
   "mimetype": "text/x-python",
   "name": "python",
   "nbconvert_exporter": "python",
   "pygments_lexer": "ipython3",
   "version": "3.8.5"
  },
  "orig_nbformat": 4
 },
 "nbformat": 4,
 "nbformat_minor": 2
}