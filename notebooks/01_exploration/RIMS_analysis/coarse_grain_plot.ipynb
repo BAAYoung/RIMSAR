{
 "cells": [
  {
   "cell_type": "code",
   "execution_count": 1,
   "metadata": {},
   "outputs": [],
   "source": [
    "import numpy as np \n",
    "import matplotlib.pyplot as plt \n"
   ]
  },
  {
   "cell_type": "code",
   "execution_count": null,
   "metadata": {},
   "outputs": [],
   "source": [
    "# x_coordinate | z_coordinate | radius | horizontal displacement | vertical displacement |\n",
    "\n",
    "point_data = np.loadtxt('point_data/point_data_500.dat')\n",
    "plt.figure(figsize=(8,8))\n",
    "\n",
    "\n",
    "\n",
    "xxcg,zzcg = np.meshgrid(np.arange(0,1000,10.0),np.arange(0,1000,10.0))\n",
    "\n",
    "rho = xxcg*0\n",
    "particle_radius = 30\n",
    "particle_radius2 = particle_radius**2\n",
    "for i in range(0,point_data.shape[0]):\n",
    "    r2 = (xxcg-point_data[i,0])**2 + (zzcg-point_data[i,1])**2\n",
    "    \n"
   ]
  }
 ],
 "metadata": {
  "interpreter": {
   "hash": "916dbcbb3f70747c44a77c7bcd40155683ae19c65e1c03b4aa3499c5328201f1"
  },
  "kernelspec": {
   "display_name": "Python 3.8.5 64-bit",
   "name": "python3"
  },
  "language_info": {
   "codemirror_mode": {
    "name": "ipython",
    "version": 3
   },
   "file_extension": ".py",
   "mimetype": "text/x-python",
   "name": "python",
   "nbconvert_exporter": "python",
   "pygments_lexer": "ipython3",
   "version": "3.8.5"
  },
  "orig_nbformat": 4
 },
 "nbformat": 4,
 "nbformat_minor": 2
}
