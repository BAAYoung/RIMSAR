{
 "metadata": {
  "orig_nbformat": 2,
  "kernelspec": {
   "name": "python3",
   "display_name": "Python 3",
   "language": "python"
  }
 },
 "nbformat": 4,
 "nbformat_minor": 2,
 "cells": [
  {
   "cell_type": "code",
   "execution_count": 6,
   "metadata": {},
   "outputs": [],
   "source": [
    "import numpy as np \n",
    "import matplotlib.pyplot as plt \n",
    "import sympy as sp \n",
    "\n",
    "#defining numerical error for basis function calculations\n",
    "eps = 0\n",
    "\n"
   ]
  },
  {
   "cell_type": "code",
   "execution_count": 7,
   "metadata": {
    "tags": []
   },
   "outputs": [],
   "source": [
    "#This cell contains sympy working for generating derivatives of the Galerkin basis function\n",
    "#all sympy variables have prefix sp_\n",
    "\n",
    "sp_x,sp_z,sp_k,sp_x_j,sp_z_j, sp_H, sp_L = sp.symbols('sp_x sp_z sp_k sp_x_j sp_z_j sp_H sp_L')\n",
    "\n",
    "sp_r = (sp.sqrt((sp_x-sp_x_j)**2 + (sp_z-sp_z_j)**2)) + eps #radial distance from X to X_j\n",
    "sp_phi = sp_r**sp_k*sp.log(sp_r+eps) #basis function\n",
    "\n",
    "\n",
    "\n",
    "\n",
    "#ensure basis function is zero on boundaries\n",
    "sp_bFunc = sp_x*sp_z*(sp_x-sp_L)*(sp_z-sp_H) \n",
    "\n",
    "#Boundary condition is approx 1 on z=H and zero everywhere else\n",
    "sp_sigma = 0.1\n",
    "sp_bc_func = sp.exp(-0.5*(sp_H-sp_z)**2/sp_sigma**2) \n",
    "\n",
    "\n",
    "#total basis function with boundary conditions\n",
    "sp_phi_tot = sp_bFunc*sp_phi\n",
    "#sp_phi_tot = sp.simplify(sp_phi_tot)\n",
    "\n",
    "\n",
    "\n",
    "\n",
    "#finding Laplacian of basis function\n",
    "sp_nabla2phi = sp_phi_tot.diff(sp_x,2) + sp_phi_tot.diff(sp_z,2)\n",
    "#sp_nabla2phi = sp.simplify(sp_nabla2phi)\n",
    "\n",
    "#finding Laplacian of boundary condition function\n",
    "sp_nabla2bc = sp_bc_func.diff(sp_x,2) + sp_bc_func.diff(sp_z,2)\n",
    "#sp_nabla2bc = sp.simplify(sp_nabla2bc)\n",
    "\n",
    "#finding x gradients for testing purposes\n",
    "sp_xgrad = sp_phi_tot.diff(sp_x)\n",
    "\n",
    "#lambdifying expressions for use in numpy\n",
    "\n",
    "nabla2phi = sp.lambdify((sp_x,sp_z,sp_x_j,sp_z_j,sp_k,sp_L,sp_H),sp_nabla2phi )\n",
    "nabla2bc =  sp.lambdify((sp_x,sp_z,sp_x_j,sp_z_j,sp_k,sp_L,sp_H),sp_nabla2bc  )\n",
    "phitot = sp.lambdify((sp_x,sp_z,sp_x_j,sp_z_j,sp_k,sp_L,sp_H),sp_phi_tot  )\n",
    "xgrad = sp.lambdify((sp_x,sp_z,sp_x_j,sp_z_j,sp_k,sp_L,sp_H),sp_xgrad  )\n",
    "bctot = sp.lambdify((sp_x,sp_z,sp_x_j,sp_z_j,sp_k,sp_L,sp_H),sp_bc_func )\n"
   ]
  },
  {
   "cell_type": "code",
   "execution_count": 8,
   "metadata": {},
   "outputs": [],
   "source": [
    "#defining state variables:\n",
    "H = 1\n",
    "L = 2\n",
    "dx = 0.1 #grid points\n",
    "k = 4\n",
    "xx,zz = np.meshgrid(np.arange(0,L+dx,dx),np.arange(0,H+dx,dx))\n",
    "\n",
    "test = False\n",
    "#testing and plotting laplacian\n",
    "if test:\n",
    "    x_j = 1\n",
    "    z_j = 0.5\n",
    "    phitot_test = phitot(xx,zz,x_j,z_j,k,L,H)\n",
    "    xgrad_test = xgrad(xx,zz,x_j,z_j,k,L,H)\n",
    "    nabla2phi_test = nabla2phi(xx,zz,x_j,z_j,k,L,H)\n",
    "    plt.plot(phitot_test[5,:])\n",
    "    xgrad_numerical = (phitot_test[:,1:] - phitot_test[:,0:-1])/dx\n",
    "    plt.plot(xgrad_numerical[5,:]/10,'.')\n",
    "    plt.plot(xgrad_test[5,:]/10)\n",
    "\n"
   ]
  },
  {
   "cell_type": "code",
   "execution_count": 9,
   "metadata": {},
   "outputs": [],
   "source": [
    "#setting up solution of Laplace's equation\n",
    "Npoints = xx.shape[0]*xx.shape[1]\n",
    "xp = xx.reshape((Npoints,1))\n",
    "zp = zz.reshape((Npoints,1))\n",
    "eps = 1e-6\n",
    "\n",
    "#building phi matrix\n",
    "nabPHI = np.zeros((Npoints,Npoints))\n",
    "pHI = np.zeros((Npoints,Npoints))\n",
    "\n",
    "#populating matrices\n",
    "for j in range(0,Npoints):\n",
    "    for x in range(0,Npoints):\n",
    "\n",
    "        #building matrix values\n",
    "        nabPHI_val = nabla2phi(xp[x,0],zp[x,0],xp[j,0]+eps,zp[j,0]+eps,k,L,H)\n",
    "        pHI_val = phitot(xp[x,0],zp[x,0],xp[j,0]+eps,zp[j,0]+eps,k,L,H)\n",
    "\n",
    "        #checking for Nans\n",
    "        if np.isnan(pHI_val):\n",
    "            pHI_val = 0\n",
    "\n",
    "        if np.isnan(nabPHI_val):\n",
    "            nabPHI_val = 0\n",
    "\n",
    "        #constructing matrices\n",
    "        nabPHI[x,j] = nabPHI_val\n",
    "        pHI[x,j] = pHI_val\n",
    "\n",
    "#building boundary condition matrix\n",
    "bc_vector = np.zeros((Npoints,1))\n",
    "nabbc_vector = np.zeros((Npoints,1))\n",
    "\n",
    "for x in range(0,Npoints):\n",
    "    bc_val = nabla2bc(xp[x,0],zp[x,0],xp[0,0],zp[0,0],k,L,H)\n",
    "    nabbc_val = bctot(xp[x,0],zp[x,0],xp[0,0],zp[0,0],k,L,H)\n",
    "\n",
    "    #checking for nans\n",
    "    if np.isnan(bc_val):\n",
    "        bc_val = 0\n",
    "\n",
    "    if np.isnan(nabbc_val):\n",
    "        nabbc_val = 0\n",
    "\n",
    "    bc_vector[x] = bc_val\n",
    "    nabbc_val = nabbc_vector\n",
    "\n"
   ]
  },
  {
   "cell_type": "code",
   "execution_count": 10,
   "metadata": {},
   "outputs": [
    {
     "output_type": "error",
     "ename": "LinAlgError",
     "evalue": "Singular matrix",
     "traceback": [
      "\u001b[0;31m---------------------------------------------------------------------------\u001b[0m",
      "\u001b[0;31mLinAlgError\u001b[0m                               Traceback (most recent call last)",
      "\u001b[0;32m<ipython-input-10-489b8fd5f740>\u001b[0m in \u001b[0;36m<module>\u001b[0;34m\u001b[0m\n\u001b[1;32m      1\u001b[0m \u001b[0;31m#solving equation:\u001b[0m\u001b[0;34m\u001b[0m\u001b[0;34m\u001b[0m\u001b[0;34m\u001b[0m\u001b[0m\n\u001b[1;32m      2\u001b[0m \u001b[0;34m\u001b[0m\u001b[0m\n\u001b[0;32m----> 3\u001b[0;31m \u001b[0mu_k\u001b[0m \u001b[0;34m=\u001b[0m \u001b[0mnp\u001b[0m\u001b[0;34m.\u001b[0m\u001b[0mlinalg\u001b[0m\u001b[0;34m.\u001b[0m\u001b[0msolve\u001b[0m\u001b[0;34m(\u001b[0m\u001b[0mnabPHI\u001b[0m\u001b[0;34m,\u001b[0m\u001b[0;34m-\u001b[0m\u001b[0mnabbc_vector\u001b[0m\u001b[0;34m)\u001b[0m\u001b[0;34m\u001b[0m\u001b[0;34m\u001b[0m\u001b[0m\n\u001b[0m",
      "\u001b[0;32m<__array_function__ internals>\u001b[0m in \u001b[0;36msolve\u001b[0;34m(*args, **kwargs)\u001b[0m\n",
      "\u001b[0;32m~/.local/lib/python3.8/site-packages/numpy/linalg/linalg.py\u001b[0m in \u001b[0;36msolve\u001b[0;34m(a, b)\u001b[0m\n\u001b[1;32m    392\u001b[0m     \u001b[0msignature\u001b[0m \u001b[0;34m=\u001b[0m \u001b[0;34m'DD->D'\u001b[0m \u001b[0;32mif\u001b[0m \u001b[0misComplexType\u001b[0m\u001b[0;34m(\u001b[0m\u001b[0mt\u001b[0m\u001b[0;34m)\u001b[0m \u001b[0;32melse\u001b[0m \u001b[0;34m'dd->d'\u001b[0m\u001b[0;34m\u001b[0m\u001b[0;34m\u001b[0m\u001b[0m\n\u001b[1;32m    393\u001b[0m     \u001b[0mextobj\u001b[0m \u001b[0;34m=\u001b[0m \u001b[0mget_linalg_error_extobj\u001b[0m\u001b[0;34m(\u001b[0m\u001b[0m_raise_linalgerror_singular\u001b[0m\u001b[0;34m)\u001b[0m\u001b[0;34m\u001b[0m\u001b[0;34m\u001b[0m\u001b[0m\n\u001b[0;32m--> 394\u001b[0;31m     \u001b[0mr\u001b[0m \u001b[0;34m=\u001b[0m \u001b[0mgufunc\u001b[0m\u001b[0;34m(\u001b[0m\u001b[0ma\u001b[0m\u001b[0;34m,\u001b[0m \u001b[0mb\u001b[0m\u001b[0;34m,\u001b[0m \u001b[0msignature\u001b[0m\u001b[0;34m=\u001b[0m\u001b[0msignature\u001b[0m\u001b[0;34m,\u001b[0m \u001b[0mextobj\u001b[0m\u001b[0;34m=\u001b[0m\u001b[0mextobj\u001b[0m\u001b[0;34m)\u001b[0m\u001b[0;34m\u001b[0m\u001b[0;34m\u001b[0m\u001b[0m\n\u001b[0m\u001b[1;32m    395\u001b[0m \u001b[0;34m\u001b[0m\u001b[0m\n\u001b[1;32m    396\u001b[0m     \u001b[0;32mreturn\u001b[0m \u001b[0mwrap\u001b[0m\u001b[0;34m(\u001b[0m\u001b[0mr\u001b[0m\u001b[0;34m.\u001b[0m\u001b[0mastype\u001b[0m\u001b[0;34m(\u001b[0m\u001b[0mresult_t\u001b[0m\u001b[0;34m,\u001b[0m \u001b[0mcopy\u001b[0m\u001b[0;34m=\u001b[0m\u001b[0;32mFalse\u001b[0m\u001b[0;34m)\u001b[0m\u001b[0;34m)\u001b[0m\u001b[0;34m\u001b[0m\u001b[0;34m\u001b[0m\u001b[0m\n",
      "\u001b[0;32m~/.local/lib/python3.8/site-packages/numpy/linalg/linalg.py\u001b[0m in \u001b[0;36m_raise_linalgerror_singular\u001b[0;34m(err, flag)\u001b[0m\n\u001b[1;32m     86\u001b[0m \u001b[0;34m\u001b[0m\u001b[0m\n\u001b[1;32m     87\u001b[0m \u001b[0;32mdef\u001b[0m \u001b[0m_raise_linalgerror_singular\u001b[0m\u001b[0;34m(\u001b[0m\u001b[0merr\u001b[0m\u001b[0;34m,\u001b[0m \u001b[0mflag\u001b[0m\u001b[0;34m)\u001b[0m\u001b[0;34m:\u001b[0m\u001b[0;34m\u001b[0m\u001b[0;34m\u001b[0m\u001b[0m\n\u001b[0;32m---> 88\u001b[0;31m     \u001b[0;32mraise\u001b[0m \u001b[0mLinAlgError\u001b[0m\u001b[0;34m(\u001b[0m\u001b[0;34m\"Singular matrix\"\u001b[0m\u001b[0;34m)\u001b[0m\u001b[0;34m\u001b[0m\u001b[0;34m\u001b[0m\u001b[0m\n\u001b[0m\u001b[1;32m     89\u001b[0m \u001b[0;34m\u001b[0m\u001b[0m\n\u001b[1;32m     90\u001b[0m \u001b[0;32mdef\u001b[0m \u001b[0m_raise_linalgerror_nonposdef\u001b[0m\u001b[0;34m(\u001b[0m\u001b[0merr\u001b[0m\u001b[0;34m,\u001b[0m \u001b[0mflag\u001b[0m\u001b[0;34m)\u001b[0m\u001b[0;34m:\u001b[0m\u001b[0;34m\u001b[0m\u001b[0;34m\u001b[0m\u001b[0m\n",
      "\u001b[0;31mLinAlgError\u001b[0m: Singular matrix"
     ]
    }
   ],
   "source": [
    "#solving equation:\n",
    "\n",
    "u_k = np.linalg.solve(nabPHI,-nabbc_vector)"
   ]
  },
  {
   "cell_type": "code",
   "execution_count": null,
   "metadata": {},
   "outputs": [],
   "source": []
  }
 ]
}