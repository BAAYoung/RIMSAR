{
 "cells": [
  {
   "cell_type": "code",
   "execution_count": 6,
   "metadata": {},
   "outputs": [],
   "source": [
    "from sympy import * "
   ]
  },
  {
   "cell_type": "code",
   "execution_count": 9,
   "metadata": {},
   "outputs": [],
   "source": [
    "x,z, u, v, dudx, d2udx2, d3udx3, dudz, d2udz2, d3udz3, d2udxdz, d3udxdz2, d3udx2dz = symbols('x z u v dudx d2udx2 d3udx3 dudz d2udz2 d3udz3 d2udxdz d3udxdz2 d3udx2dz')\n",
    "dvdx, d2vdx2, d3vdx3, dvdz, d2vdz2, d3vdz3, d2vdxdz, d3vdxdz2, d3vdx2dz = symbols('dvdx d2vdx2 d3vdx3 dvdz d2vdz2 d3vdz3 d2vdxdz d3vdxdz2 d3vdx2dz')\n",
    "mu, dmudx, d2mudx2, d3mudx3, dmudz, d2mudz2, d3mudz3, d2mudxdz, d3mudxdz2, d3mudx2dz = symbols('mu dmudx d2mudx2 d3mudx3 dmudz d2mudz2 d3mudz3 d2mudxdz d3mudxdz2 d3mudx2dz')"
   ]
  },
  {
   "cell_type": "code",
   "execution_count": 8,
   "metadata": {},
   "outputs": [
    {
     "name": "stdout",
     "output_type": "stream",
     "text": [
      "            2                                                                 \n",
      "           ∂                                               2                  \n",
      "4⋅μ(x, z)⋅───(u(x, z))                                    ∂                ∂  \n",
      "            2                      2            μ(x, z)⋅─────(v(x, z))   4⋅──(\n",
      "          ∂x                      ∂                     ∂z ∂x              ∂x \n",
      "────────────────────── + μ(x, z)⋅───(u(x, z)) + ────────────────────── + ─────\n",
      "          3                        2                      3                   \n",
      "                                 ∂z                                           \n",
      "\n",
      "                                                                              \n",
      "                                                                              \n",
      "         ∂               ∂           ∂                                        \n",
      "μ(x, z))⋅──(u(x, z))   2⋅──(μ(x, z))⋅──(v(x, z))                              \n",
      "         ∂x              ∂x          ∂z            ∂           ∂             ∂\n",
      "──────────────────── - ───────────────────────── + ──(μ(x, z))⋅──(u(x, z)) + ─\n",
      "       3                           3               ∂z          ∂z            ∂\n",
      "                                                                              \n",
      "\n",
      "                      \n",
      "                      \n",
      "                      \n",
      "                      \n",
      "           ∂          \n",
      "─(μ(x, z))⋅──(v(x, z))\n",
      "z          ∂x         \n",
      "                      \n"
     ]
    }
   ],
   "source": [
    "U = u + x*dudx + 0.5*x*d2udx2"
   ]
  }
 ],
 "metadata": {
  "interpreter": {
   "hash": "916dbcbb3f70747c44a77c7bcd40155683ae19c65e1c03b4aa3499c5328201f1"
  },
  "kernelspec": {
   "display_name": "Python 3.8.10 64-bit",
   "name": "python3"
  },
  "language_info": {
   "codemirror_mode": {
    "name": "ipython",
    "version": 3
   },
   "file_extension": ".py",
   "mimetype": "text/x-python",
   "name": "python",
   "nbconvert_exporter": "python",
   "pygments_lexer": "ipython3",
   "version": "3.8.10"
  },
  "orig_nbformat": 4
 },
 "nbformat": 4,
 "nbformat_minor": 2
}
