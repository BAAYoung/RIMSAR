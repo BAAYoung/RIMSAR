{
 "metadata": {
  "language_info": {
   "codemirror_mode": {
    "name": "ipython",
    "version": 3
   },
   "file_extension": ".py",
   "mimetype": "text/x-python",
   "name": "python",
   "nbconvert_exporter": "python",
   "pygments_lexer": "ipython3",
   "version": "3.8.5-final"
  },
  "orig_nbformat": 2,
  "kernelspec": {
   "name": "python3",
   "display_name": "Python 3",
   "language": "python"
  }
 },
 "nbformat": 4,
 "nbformat_minor": 2,
 "cells": [
  {
   "source": [
    "The aim of this notebook is to develop a poisson solver within the tensorflow framework for use in infering pressure and viscosity fields from noisy data "
   ],
   "cell_type": "markdown",
   "metadata": {}
  },
  {
   "cell_type": "code",
   "execution_count": null,
   "metadata": {},
   "outputs": [],
   "source": [
    "%matplotlib inline\n",
    "import numpy as np \n",
    "import matplotlib.pyplot as plt \n",
    "import tensorflow as tf \n",
    "\n",
    "#grid setup:\n",
    "\n",
    "#numpy variables have no prefix, whereas tensorflow variables have a tf_ prefix\n",
    "\n",
    "dx = 0.01\n",
    "dz = 0.1\n",
    "\n",
    "xx,zz = np.meshgrid(np.arange(0,1,dx),np.arange(0,1,dz))\n",
    "nx = xx.shape[1]\n",
    "nz = xx.shape[0]\n",
    "\n",
    "n_grid = nx*nz #size of the non-boundary condition grid\n"
   ]
  },
  {
   "source": [
    "We now pick an arbitrary function $f(x,z) $ such that our poisson equation reads $\\nabla^2 p(x,z) = f(x,z)$"
   ],
   "cell_type": "markdown",
   "metadata": {}
  },
  {
   "cell_type": "code",
   "execution_count": null,
   "metadata": {},
   "outputs": [],
   "source": [
    "fxz = np.sin(xx)*np.cos(zz) + xx\n",
    "plt.contourf(fxz)\n",
    "plt.colorbar()"
   ]
  }
 ]
}