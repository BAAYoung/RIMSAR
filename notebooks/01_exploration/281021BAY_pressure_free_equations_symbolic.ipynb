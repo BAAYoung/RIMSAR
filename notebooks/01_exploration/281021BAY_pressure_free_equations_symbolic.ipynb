{
 "cells": [
  {
   "cell_type": "code",
   "execution_count": 43,
   "metadata": {},
   "outputs": [],
   "source": [
    "from sympy import * "
   ]
  },
  {
   "cell_type": "code",
   "execution_count": 44,
   "metadata": {},
   "outputs": [],
   "source": [
    "x,z = symbols('x z')\n",
    "u = Function('u')(x,z)\n",
    "v = Function('v')(x,z)\n",
    "mu = Function('mu')(x,z)"
   ]
  },
  {
   "cell_type": "code",
   "execution_count": 45,
   "metadata": {},
   "outputs": [],
   "source": [
    "#derivatives:\n",
    "dudx = u.diff(x)\n",
    "d2udx2 = u.diff(x,2)\n",
    "d3udx3 = u.diff(x,3)\n",
    "dudz = u.diff(z)\n",
    "d2udz2 = u.diff(z,2)\n",
    "d3udz3 = u.diff(z,3)\n",
    "d2udxdz = u.diff(x).diff(z)\n",
    "d3udx2dz = u.diff(x,2).diff(z)\n",
    "d3udxdz2 = u.diff(x).diff(z,2)\n",
    "\n",
    "dvdx = v.diff(x)\n",
    "d2vdx2 = v.diff(x,2)\n",
    "d3vdx3 = v.diff(x,3)\n",
    "dvdz = v.diff(z)\n",
    "d2vdz2 = v.diff(z,2)\n",
    "d3vdz3 = v.diff(z,3)\n",
    "d2vdxdz = v.diff(x).diff(z)\n",
    "d3vdx2dz = v.diff(x,2).diff(z)\n",
    "d3vdxdz2 = v.diff(x).diff(z,2)\n",
    "\n",
    "dmudx = mu.diff(x)\n",
    "d2mudx2 = mu.diff(x,2)\n",
    "\n",
    "dmudz = mu.diff(z)\n",
    "d2mudz2 = mu.diff(z,2)\n",
    "\n",
    "d2mudxdz = mu.diff(x).diff(z)\n"
   ]
  },
  {
   "cell_type": "code",
   "execution_count": 46,
   "metadata": {},
   "outputs": [
    {
     "name": "stdout",
     "output_type": "stream",
     "text": [
      "\\mu{\\left(x,z \\right)} \\frac{\\partial^{3}}{\\partial z^{3}} u{\\left(x,z \\right)} - \\mu{\\left(x,z \\right)} \\frac{\\partial^{3}}{\\partial x^{3}} v{\\left(x,z \\right)} + \\mu{\\left(x,z \\right)} \\frac{\\partial^{3}}{\\partial z\\partial x^{2}} u{\\left(x,z \\right)} - \\mu{\\left(x,z \\right)} \\frac{\\partial^{3}}{\\partial z^{2}\\partial x} v{\\left(x,z \\right)} - 2 \\frac{\\partial}{\\partial x} \\mu{\\left(x,z \\right)} \\frac{\\partial^{2}}{\\partial x^{2}} v{\\left(x,z \\right)} - 2 \\frac{\\partial}{\\partial x} \\mu{\\left(x,z \\right)} \\frac{\\partial^{2}}{\\partial z^{2}} v{\\left(x,z \\right)} - \\frac{\\partial^{2}}{\\partial x^{2}} \\mu{\\left(x,z \\right)} \\frac{\\partial}{\\partial z} u{\\left(x,z \\right)} - \\frac{\\partial^{2}}{\\partial x^{2}} \\mu{\\left(x,z \\right)} \\frac{\\partial}{\\partial x} v{\\left(x,z \\right)} + 2 \\frac{\\partial}{\\partial z} \\mu{\\left(x,z \\right)} \\frac{\\partial^{2}}{\\partial x^{2}} u{\\left(x,z \\right)} + 2 \\frac{\\partial}{\\partial z} \\mu{\\left(x,z \\right)} \\frac{\\partial^{2}}{\\partial z^{2}} u{\\left(x,z \\right)} + \\frac{\\partial^{2}}{\\partial z^{2}} \\mu{\\left(x,z \\right)} \\frac{\\partial}{\\partial z} u{\\left(x,z \\right)} + \\frac{\\partial^{2}}{\\partial z^{2}} \\mu{\\left(x,z \\right)} \\frac{\\partial}{\\partial x} v{\\left(x,z \\right)} + 2 \\frac{\\partial}{\\partial x} u{\\left(x,z \\right)} \\frac{\\partial^{2}}{\\partial z\\partial x} \\mu{\\left(x,z \\right)} - 2 \\frac{\\partial}{\\partial z} v{\\left(x,z \\right)} \\frac{\\partial^{2}}{\\partial z\\partial x} \\mu{\\left(x,z \\right)}\n"
     ]
    }
   ],
   "source": [
    "viscx = ( mu*(u.diff(x) + u.diff(x)) - 2*mu*u.diff(x)/3 -2*mu*v.diff(z)/3  ).diff(x) + ( mu*(u.diff(z)+v.diff(x))  ).diff(z)\n",
    "\n",
    "viscz = ( mu*(v.diff(z) + v.diff(z)) - 2*mu*u.diff(x)/3 -2*mu*v.diff(z)/3  ).diff(z) + ( mu*(u.diff(z)+v.diff(x))  ).diff(x)\n",
    "\n",
    "visc_pressure_free = simplify(viscx.diff(z) - viscz.diff(x))\n",
    "\n",
    "print(latex(visc_pressure_free))\n"
   ]
  },
  {
   "cell_type": "code",
   "execution_count": 47,
   "metadata": {},
   "outputs": [
    {
     "name": "stdout",
     "output_type": "stream",
     "text": [
      "0\n"
     ]
    }
   ],
   "source": [
    "#writing out in python-esque language:\n",
    "\n",
    "test = mu*d3udz3 - mu*d3vdx3 + mu*d3udx2dz - mu*d3vdxdz2 - 2*dmudx*d2vdx2 -2*dmudx*d2vdz2 -d2mudx2*dudz\n",
    "\n",
    "test += -d2mudx2*dvdx + 2*dmudz*d2udx2 + 2*dmudz*d2udz2\n",
    "\n",
    "test += d2mudz2*dudz + d2mudz2*dvdx + 2*dudx*d2mudxdz - 2*dvdz*d2mudxdz\n",
    "\n",
    "\n",
    "pprint(test-visc_pressure_free)"
   ]
  }
 ],
 "metadata": {
  "interpreter": {
   "hash": "916dbcbb3f70747c44a77c7bcd40155683ae19c65e1c03b4aa3499c5328201f1"
  },
  "kernelspec": {
   "display_name": "Python 3.8.10 64-bit",
   "name": "python3"
  },
  "language_info": {
   "codemirror_mode": {
    "name": "ipython",
    "version": 3
   },
   "file_extension": ".py",
   "mimetype": "text/x-python",
   "name": "python",
   "nbconvert_exporter": "python",
   "pygments_lexer": "ipython3",
   "version": "3.8.10"
  },
  "orig_nbformat": 4
 },
 "nbformat": 4,
 "nbformat_minor": 2
}
