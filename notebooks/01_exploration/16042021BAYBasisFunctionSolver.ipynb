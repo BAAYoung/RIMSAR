{
 "metadata": {
  "orig_nbformat": 2,
  "kernelspec": {
   "name": "python3",
   "display_name": "Python 3",
   "language": "python"
  }
 },
 "nbformat": 4,
 "nbformat_minor": 2,
 "cells": [
  {
   "cell_type": "code",
   "execution_count": 1,
   "metadata": {},
   "outputs": [],
   "source": [
    "from sympy import *\n",
    "x,z,k,x_j,z_j, H, L = symbols('x z k x_j z_j H L')"
   ]
  },
  {
   "cell_type": "code",
   "execution_count": 2,
   "metadata": {},
   "outputs": [
    {
     "output_type": "stream",
     "name": "stdout",
     "text": [
      "                         k                                  \n                         ─                                  \n                         2    ⎛   _________________________⎞\n⎛         2            2⎞     ⎜  ╱          2            2 ⎟\n⎝(x - x_j)  + (z - z_j) ⎠ ⋅log⎝╲╱  (x - x_j)  + (z - z_j)  ⎠\n"
     ]
    }
   ],
   "source": [
    "r = Function('r')(x,z)\n",
    "r = sqrt((x-x_j)**2 + (z-z_j)**2)\n",
    "phi = r**k*log(r) #basis function\n",
    "pprint(phi)\n"
   ]
  },
  {
   "cell_type": "code",
   "execution_count": 3,
   "metadata": {},
   "outputs": [],
   "source": [
    "#boundary function:\n",
    "bFunc = x*z*(x-L)*(z-H) #ensures basis function is zero on boundaries\n",
    "phi_tot = bFunc*phi\n",
    "bc_func = Function('bc_func')(x,z)"
   ]
  },
  {
   "cell_type": "code",
   "execution_count": 4,
   "metadata": {},
   "outputs": [
    {
     "output_type": "stream",
     "name": "stdout",
     "text": [
      "                                                                              \n                                                                              \n⎛          ⎛          ⎛                   ⎛           2            2          \n⎜          ⎜          ⎜             2   k⋅⎝k⋅(z - z_j)  + (x - x_j)  - (z - z_\n⎜x⋅(L - x)⋅⎜z⋅(H - z)⋅⎜2⋅k⋅(z - z_j)  + ──────────────────────────────────────\n⎝          ⎝          ⎝                                                    2  \n\n                                                                              \n                                                                              \n  2⎞    ⎛         2            2⎞                          ⎞                  \nj) ⎠⋅log⎝(x - x_j)  + (z - z_j) ⎠            2            2⎟               ⎛  \n───────────────────────────────── + (x - x_j)  - (z - z_j) ⎟ + 2⋅(z - z_j)⋅⎝(x\n                                                           ⎠                  \n\n                                                                              \n                                                                              \n                       ⎛           ⎛         2            2⎞                ⎛ \n       2            2⎞ ⎜    k⋅z⋅log⎝(x - x_j)  + (z - z_j) ⎠   k⋅(H - z)⋅log⎝(\n - x_j)  + (z - z_j) ⎠⋅⎜H - ──────────────────────────────── + ───────────────\n                       ⎝                   2                                  \n\n                                                                              \n                                                                              \n        2            2⎞      ⎞                            2                   \nx - x_j)  + (z - z_j) ⎠      ⎟   ⎛         2            2⎞     ⎛         2    \n─────────────────────── - 2⋅z⎟ - ⎝(x - x_j)  + (z - z_j) ⎠ ⋅log⎝(x - x_j)  + (\n   2                         ⎠                                                \n\n                                                                              \n                                                                              \n          ⎞             ⎛          ⎛                   ⎛           2          \n        2⎞⎟             ⎜          ⎜             2   k⋅⎝k⋅(x - x_j)  - (x - x_\nz - z_j) ⎠⎟ + z⋅(H - z)⋅⎜x⋅(L - x)⋅⎜2⋅k⋅(x - x_j)  + ─────────────────────────\n          ⎠             ⎝          ⎝                                          \n\n                                                                              \n                                                                              \n  2            2⎞    ⎛         2            2⎞                          ⎞     \nj)  + (z - z_j) ⎠⋅log⎝(x - x_j)  + (z - z_j) ⎠            2            2⎟     \n────────────────────────────────────────────── - (x - x_j)  + (z - z_j) ⎟ + 2⋅\n          2                                                             ⎠     \n\n                                                                              \n                                                                              \n                                    ⎛           ⎛         2            2⎞     \n          ⎛         2            2⎞ ⎜    k⋅x⋅log⎝(x - x_j)  + (z - z_j) ⎠   k⋅\n(x - x_j)⋅⎝(x - x_j)  + (z - z_j) ⎠⋅⎜L - ──────────────────────────────── + ──\n                                    ⎝                   2                     \n\n                                                                              \n                                                                              \n           ⎛         2            2⎞      ⎞                            2      \n(L - x)⋅log⎝(x - x_j)  + (z - z_j) ⎠      ⎟   ⎛         2            2⎞     ⎛ \n──────────────────────────────────── - 2⋅x⎟ - ⎝(x - x_j)  + (z - z_j) ⎠ ⋅log⎝(\n                2                         ⎠                                   \n\n                                                   k    \n                                                   ─ - 2\n                       ⎞⎞                          2    \n        2            2⎞⎟⎟ ⎛         2            2⎞     \nx - x_j)  + (z - z_j) ⎠⎟⎟⋅⎝(x - x_j)  + (z - z_j) ⎠     \n                       ⎠⎠                               \n"
     ]
    }
   ],
   "source": [
    "nabla2phi = phi_tot.diff(x,2) + phi_tot.diff(z,2)\n",
    "nabla2phi = simplify(nabla2phi)\n",
    "pprint(nabla2phi)"
   ]
  },
  {
   "cell_type": "code",
   "execution_count": null,
   "metadata": {},
   "outputs": [],
   "source": []
  }
 ]
}