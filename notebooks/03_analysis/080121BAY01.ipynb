{
 "metadata": {
  "language_info": {
   "codemirror_mode": {
    "name": "ipython",
    "version": 3
   },
   "file_extension": ".py",
   "mimetype": "text/x-python",
   "name": "python",
   "nbconvert_exporter": "python",
   "pygments_lexer": "ipython3",
   "version": "3.8.5-final"
  },
  "orig_nbformat": 2,
  "kernelspec": {
   "name": "python3",
   "display_name": "Python 3",
   "language": "python"
  }
 },
 "nbformat": 4,
 "nbformat_minor": 2,
 "cells": [
  {
   "source": [
    "The goal of this notebook is to use our processed point_data, coarse-grain using a lucy coarse-graining function. We can then import this into tensorflow and learn a model represantation for our system "
   ],
   "cell_type": "markdown",
   "metadata": {}
  },
  {
   "cell_type": "code",
   "execution_count": null,
   "metadata": {},
   "outputs": [],
   "source": [
    "%matplotlib inline\n",
    "import numpy as np \n",
    "import matplotlib.pyplot as plt \n",
    "import tensorflow as tf \n"
   ]
  },
  {
   "cell_type": "code",
   "execution_count": null,
   "metadata": {},
   "outputs": [],
   "source": [
    "#generating grid over which the coarse-grained data will be valid\n",
    "dx = 0.01\n",
    "dz = 0.01\n",
    "\n",
    "xx,zz = np.meshgrid(np.arange(0,0.45,dx),np.arange(0,0.45,dz))\n",
    "nx = xx.shape[1]\n",
    "nz = xx.shape[0]\n",
    "xp = xx.reshape((nx*nz,1))\n",
    "zp = zz.reshape((nx*nz,1))\n",
    "\n",
    "Xp = np.concatenate((xp,zp),axis=1)\n",
    "\n",
    "#generating python list of spatially coarse grained frames (note we will temporally coarse grain after this step):\n",
    "filtered_u_list = []\n",
    "filtered_v_list = []\n",
    "filtered_rho_list = []\n",
    "\n",
    "c = 0.05 #spatial coarse-graining parameter\n",
    "\n",
    "image_numbers = np.arange(0,4000,1)\n",
    "\n",
    "for image_number_orig in image_numbers:\n",
    "    point_data = np.loadtxt('/home/bay22/github_repos/RIMSAR/data/03_processed/point_data/point_data_'+str(image_number_orig)+'.dat')\n",
    "    #calibrating\n",
    "    #12mm = 29.4 pixels\n",
    "    #camera at 300 hz\n",
    "\n",
    "\n",
    "    #density of borosilicate glass: 2.23 g/cm3\n",
    "    #volume of 0.6cm radius glass sphere = 0.90 cm^3\n",
    "    #mass = 0.002 kg\n",
    "    mass = 0.002\n",
    "    point_data *= 12/(29.4*1000)\n",
    "    point_data[:,1] = 0.4-point_data[:,1]\n",
    "    point_data[:,3:] *= 300\n",
    "    #print(point_data)\n",
    "\n",
    "\n",
    "    Xc = point_data[:,0:2]\n",
    "\n",
    "    r = np.sqrt( (Xp[:,0:1] - Xc[:,0:1].transpose())**2 + (Xp[:,1:2] - Xc[:,1:2].transpose())**2 )/c\n",
    "    #r = np.sqrt( (xx - Xc[0,0] )**2 + (zz - Xc[0,1])**2 )/c\n",
    "\n",
    "    W = 5*( -3*r**4 + 8*r**3 - 6*r**2 + 1   )/(3.14159*c**2)\n",
    "\n",
    "    #numerical stability parameter\n",
    "    epsilon = 1e-4\n",
    "    W[r>=1] = 0\n",
    "    rho = np.sum(W,axis=1).reshape((nx,nz))*mass + epsilon\n",
    "    u = mass*np.matmul(W,point_data[:,3:4]).reshape((nz,nx))/rho\n",
    "    v = mass*np.matmul(W,point_data[:,4:5]).reshape((nz,nx))/rho\n",
    "\n",
    "    filtered_rho_list.append(rho)\n",
    "    filtered_u_list.append(u)\n",
    "    filtered_v_list.append(v)\n"
   ]
  },
  {
   "cell_type": "code",
   "execution_count": null,
   "metadata": {},
   "outputs": [],
   "source": [
    "plt.contourf(xx,zz,u,levels=100)\n",
    "plt.colorbar()"
   ]
  }
 ]
}